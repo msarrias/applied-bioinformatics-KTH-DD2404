{
 "cells": [
  {
   "cell_type": "code",
   "execution_count": 48,
   "metadata": {},
   "outputs": [],
   "source": [
    "from Bio.Blast import NCBIXML\n",
    "from Bio.Blast import NCBIWWW\n",
    "import matplotlib.pyplot as plt\n",
    "import statistics\n",
    "import argparse"
   ]
  },
  {
   "cell_type": "code",
   "execution_count": null,
   "metadata": {},
   "outputs": [],
   "source": [
    "def main():\n",
    "    parser = argparse.ArgumentParser(description='Visualise Blast results')\n",
    "    "
   ]
  },
  {
   "cell_type": "code",
   "execution_count": null,
   "metadata": {},
   "outputs": [],
   "source": [
    "parser.add_argument(\"-i\", \"--input\", help=\"Input file in Markdown format.\")\n",
    "parser.add_argument(\"-o\", \"--output\", help=\"Output file in HTML format.\")"
   ]
  },
  {
   "cell_type": "code",
   "execution_count": null,
   "metadata": {},
   "outputs": [],
   "source": [
    "\n",
    "parser.add_argument('integers', metavar='N', type=int, nargs='+',\n",
    "                    help='an integer for the accumulator')\n",
    "parser.add_argument('--input', dest='accumulate', action='store_const',\n",
    "                    const=sum, default=max,\n",
    "                    help='Input file name in xml format')\n",
    "\n",
    "args = parser.parse_args()\n",
    "print(args.accumulate(args.integers))"
   ]
  },
  {
   "cell_type": "code",
   "execution_count": 59,
   "metadata": {},
   "outputs": [],
   "source": [
    "filename = 'my-output.xml'\n",
    "blast_records_by_name = dict()\n",
    "scores_bits = []\n",
    "scores_scores =[]\n",
    "with open(filename, 'r') as f: \n",
    "    blast_records_name = filename[:-4] + '_br'\n",
    "    blast_records_by_name[blast_records_name] = NCBIXML.parse(f)\n",
    "    for record in blast_records_by_name[blast_records_name]:\n",
    "        for alignment in record.alignments:\n",
    "            for hsp in alignment.hsps:\n",
    "                scores_bits.append(hsp.bits)\n",
    "                scores_scores.append(hsp.score)"
   ]
  },
  {
   "cell_type": "code",
   "execution_count": 58,
   "metadata": {},
   "outputs": [
    {
     "data": {
      "image/png": "[encoded data removed]",
      "text/plain": [
       "<Figure size 432x288 with 1 Axes>"
      ]
     },
     "metadata": {
      "needs_background": "light"
     },
     "output_type": "display_data"
    },
    {
     "data": {
      "text/plain": [
       "<Figure size 432x288 with 0 Axes>"
      ]
     },
     "metadata": {},
     "output_type": "display_data"
    }
   ],
   "source": [
    "%matplotlib inline\n",
    "plt.hist(scores, color='#607c8e', bins=10, rwidth=0.9)\n",
    "plt.grid(axis='y')\n",
    "plt.xlabel('Score')\n",
    "plt.ylabel('Frequency')\n",
    "plt.title('Scores for the first Blast result')\n",
    "plt.figtext(1.0, 0.85,  f'nº hits: {len(scores)}')\n",
    "plt.figtext(1.0, 0.80, f'min score: {min(scores)}')\n",
    "plt.figtext(1.0, 0.75, f'max score: {max(scores)}')\n",
    "plt.figtext(1.0, 0.70, f'scores mean: {round(statistics.mean(scores),2)}')\n",
    "plt.show()\n",
    "plt.savefig('test.pdf')\n"
   ]
  },
  {
   "cell_type": "code",
   "execution_count": null,
   "metadata": {},
   "outputs": [],
   "source": [
    "\n"
   ]
  }
 ],
 "metadata": {
  "kernelspec": {
   "display_name": "Python 3",
   "language": "python",
   "name": "python3"
  },
  "language_info": {
   "codemirror_mode": {
    "name": "ipython",
    "version": 3
   },
   "file_extension": ".py",
   "mimetype": "text/x-python",
   "name": "python",
   "nbconvert_exporter": "python",
   "pygments_lexer": "ipython3",
   "version": "3.6.6"
  }
 },
 "nbformat": 4,
 "nbformat_minor": 2
}
