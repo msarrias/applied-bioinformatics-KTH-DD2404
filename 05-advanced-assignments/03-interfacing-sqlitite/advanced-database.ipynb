{
 "cells": [
  {
   "cell_type": "code",
   "execution_count": 1,
   "metadata": {},
   "outputs": [],
   "source": [
    "import sqlite3\n",
    "import pandas as pd\n",
    "from prettytable import PrettyTable"
   ]
  },
  {
   "cell_type": "code",
   "execution_count": 2,
   "metadata": {},
   "outputs": [],
   "source": [
    "conn = sqlite3.connect('test_restore_protdb.db')\n",
    "cur = conn.cursor()"
   ]
  },
  {
   "cell_type": "code",
   "execution_count": 3,
   "metadata": {},
   "outputs": [
    {
     "name": "stdout",
     "output_type": "stream",
     "text": [
      "2.Species in the database:\n"
     ]
    }
   ],
   "source": [
    "print('2.Species in the database:')\n",
    "cursor = cur.execute('select * from species')\n",
    "x = PrettyTable([headers[0] for headers in cursor.description])\n",
    "for row in cursor.fetchall():\n",
    "    x.add_row(row)"
   ]
  },
  {
   "cell_type": "code",
   "execution_count": 4,
   "metadata": {},
   "outputs": [
    {
     "name": "stdout",
     "output_type": "stream",
     "text": [
      "+--------+-------------------------+---------------------+\n",
      "| abbrev |           name          |        common       |\n",
      "+--------+-------------------------+---------------------+\n",
      "|   Hs   |       Homo sapiens      |        Human        |\n",
      "|   Mm   |       Mus musculus      |        Mouse        |\n",
      "|   Gg   |      Gallus gallus      |       Chicken       |\n",
      "|   Xl   |      Xenopus laevis     | African clawed frog |\n",
      "|   Bt   |        Bos taurus       |         Cow         |\n",
      "|   Tr   |    Takifugu rubripes    |      Pufferfish     |\n",
      "|   Br   |    Brachydanio rerio    |      Zebrafish      |\n",
      "|   Dm   | Drosophila melanogaster |         Fly         |\n",
      "|   Ce   |  Caenorhabditis elegans |       Nematode      |\n",
      "|   Ss   |        Sus scrofa       |      Wild Boar      |\n",
      "+--------+-------------------------+---------------------+\n"
     ]
    }
   ],
   "source": [
    "print(x)"
   ]
  },
  {
   "cell_type": "code",
   "execution_count": 5,
   "metadata": {},
   "outputs": [
    {
     "name": "stdout",
     "output_type": "stream",
     "text": [
      "3.Adding species 'Sus scrofa':\n"
     ]
    }
   ],
   "source": [
    "print(\"3.Adding species 'Sus scrofa':\")\n",
    "cursor = cur.execute(\"INSERT OR IGNORE INTO species VALUES ('Ss', 'Sus scrofa', 'Wild Boar');\")\n",
    "cursor = cur.execute(\"COMMIT\")\n",
    "cursor = cur.execute('select * from species')\n",
    "x = PrettyTable([headers[0] for headers in cursor.description])\n",
    "for row in cursor.fetchall():\n",
    "    x.add_row(row)"
   ]
  },
  {
   "cell_type": "code",
   "execution_count": 6,
   "metadata": {
    "scrolled": true
   },
   "outputs": [
    {
     "name": "stdout",
     "output_type": "stream",
     "text": [
      "+--------+-------------------------+---------------------+\n",
      "| abbrev |           name          |        common       |\n",
      "+--------+-------------------------+---------------------+\n",
      "|   Hs   |       Homo sapiens      |        Human        |\n",
      "|   Mm   |       Mus musculus      |        Mouse        |\n",
      "|   Gg   |      Gallus gallus      |       Chicken       |\n",
      "|   Xl   |      Xenopus laevis     | African clawed frog |\n",
      "|   Bt   |        Bos taurus       |         Cow         |\n",
      "|   Tr   |    Takifugu rubripes    |      Pufferfish     |\n",
      "|   Br   |    Brachydanio rerio    |      Zebrafish      |\n",
      "|   Dm   | Drosophila melanogaster |         Fly         |\n",
      "|   Ce   |  Caenorhabditis elegans |       Nematode      |\n",
      "|   Ss   |        Sus scrofa       |      Wild Boar      |\n",
      "+--------+-------------------------+---------------------+\n"
     ]
    }
   ],
   "source": [
    "print(x)"
   ]
  },
  {
   "cell_type": "code",
   "execution_count": 7,
   "metadata": {},
   "outputs": [
    {
     "name": "stdout",
     "output_type": "stream",
     "text": [
      "+------------+\n",
      "| accession  |\n",
      "+------------+\n",
      "| E75A_DROME |\n",
      "| E75B_DROME |\n",
      "| E75C_DROME |\n",
      "| HR38_DROME |\n",
      "| FTF1_DROME |\n",
      "+------------+\n"
     ]
    }
   ],
   "source": [
    "#4.count the proteins with a sequence longer than 1000\n",
    "cursor = cur.execute(\"SELECT accession FROM protein WHERE LENGTH(sequence)>1000;\")\n",
    "x = PrettyTable([headers[0] for headers in cursor.description])\n",
    "for row in cursor.fetchall():\n",
    "    x.add_row(row)\n",
    "print(x)"
   ]
  },
  {
   "cell_type": "code",
   "execution_count": 8,
   "metadata": {},
   "outputs": [
    {
     "name": "stdout",
     "output_type": "stream",
     "text": [
      "+-------------------+\n",
      "|        name       |\n",
      "+-------------------+\n",
      "|    Homo sapiens   |\n",
      "|    Mus musculus   |\n",
      "| Brachydanio rerio |\n",
      "|   Gallus gallus   |\n",
      "|   Xenopus laevis  |\n",
      "|     Bos taurus    |\n",
      "+-------------------+\n"
     ]
    }
   ],
   "source": [
    "#5.print species names matching NHR3 family\n",
    "cursor = cur.execute('''\n",
    "SELECT DISTINCT(name)\n",
    "FROM species, familymembers, protein\n",
    "WHERE protein.species = species.abbrev\n",
    "AND familymembers.protein = protein.accession\n",
    "AND familymembers.family = 'NHR3';\n",
    "'''\n",
    ")\n",
    "x = PrettyTable([headers[0] for headers in cursor.description])\n",
    "for row in cursor.fetchall():\n",
    "    x.add_row(row)\n",
    "print(x)"
   ]
  },
  {
   "cell_type": "code",
   "execution_count": 9,
   "metadata": {},
   "outputs": [
    {
     "name": "stdout",
     "output_type": "stream",
     "text": [
      "+---------+----------+\n",
      "| species | COUNT(*) |\n",
      "+---------+----------+\n",
      "|    Br   |    6     |\n",
      "|    Bt   |    6     |\n",
      "|    Ce   |    50    |\n",
      "|    Dm   |    16    |\n",
      "|    Gg   |    11    |\n",
      "|    Hs   |    47    |\n",
      "|    Mm   |    42    |\n",
      "|    Tr   |    1     |\n",
      "|    Xl   |    16    |\n",
      "+---------+----------+\n"
     ]
    }
   ],
   "source": [
    "#5.print species names matching NHR3 family\n",
    "cursor = cur.execute('''SELECT species, COUNT(*) FROM protein GROUP BY species;''')\n",
    "x = PrettyTable([headers[0] for headers in cursor.description])\n",
    "for row in cursor.fetchall():\n",
    "    x.add_row(row)\n",
    "print(x)"
   ]
  },
  {
   "cell_type": "code",
   "execution_count": 11,
   "metadata": {},
   "outputs": [
    {
     "name": "stdout",
     "output_type": "stream",
     "text": [
      "7.Adding structure information:\n"
     ]
    },
    {
     "ename": "NameError",
     "evalue": "name 'c' is not defined",
     "output_type": "error",
     "traceback": [
      "\u001b[0;31m---------------------------------------------------------------------------\u001b[0m",
      "\u001b[0;31mNameError\u001b[0m                                 Traceback (most recent call last)",
      "\u001b[0;32m<ipython-input-11-59bc9e4a3327>\u001b[0m in \u001b[0;36m<module>\u001b[0;34m\u001b[0m\n\u001b[1;32m      1\u001b[0m \u001b[0mprint\u001b[0m \u001b[0;34m(\u001b[0m\u001b[0;34m\"7.Adding structure information:\"\u001b[0m\u001b[0;34m)\u001b[0m\u001b[0;34m\u001b[0m\u001b[0;34m\u001b[0m\u001b[0m\n\u001b[1;32m      2\u001b[0m \u001b[0;31m#7.create two more tables, for storing structures and their owners\u001b[0m\u001b[0;34m\u001b[0m\u001b[0;34m\u001b[0m\u001b[0;34m\u001b[0m\u001b[0m\n\u001b[0;32m----> 3\u001b[0;31m c.executescript('''\n\u001b[0m\u001b[1;32m      4\u001b[0m CREATE TABLE IF NOT EXISTS structure (\n\u001b[1;32m      5\u001b[0m     \u001b[0mname\u001b[0m \u001b[0mcharacter\u001b[0m \u001b[0mvarying\u001b[0m\u001b[0;34m(\u001b[0m\u001b[0;36m100\u001b[0m\u001b[0;34m)\u001b[0m \u001b[0mPRIMARY\u001b[0m \u001b[0mKEY\u001b[0m\u001b[0;34m,\u001b[0m\u001b[0;34m\u001b[0m\u001b[0;34m\u001b[0m\u001b[0m\n",
      "\u001b[0;31mNameError\u001b[0m: name 'c' is not defined"
     ]
    }
   ],
   "source": [
    "print (\"7.Adding structure information:\")\n",
    "#7.create two more tables, for storing structures and their owners\n",
    "c.executescript('''\n",
    "CREATE TABLE IF NOT EXISTS structure (\n",
    "    name character varying(100) PRIMARY KEY,\n",
    "    resolution character varying(10),\n",
    "    method character varying(50)\n",
    ");\n",
    "CREATE TABLE IF NOT EXISTS proteinmembers (\n",
    "    protein character varying(20),\n",
    "    structure character varying(100),\n",
    "    PRIMARY KEY(protein,structure)\n",
    ");\n",
    "'''\n",
    ")\n",
    "c.execute(\"SELECT sql FROM sqlite_master WHERE type='table';\")\n",
    "col_headers = [t[0] for t in c.description]\n",
    "printdb(c.fetchall(),col_headers)"
   ]
  },
  {
   "cell_type": "code",
   "execution_count": null,
   "metadata": {},
   "outputs": [],
   "source": []
  }
 ],
 "metadata": {
  "kernelspec": {
   "display_name": "Python 3",
   "language": "python",
   "name": "python3"
  },
  "language_info": {
   "codemirror_mode": {
    "name": "ipython",
    "version": 3
   },
   "file_extension": ".py",
   "mimetype": "text/x-python",
   "name": "python",
   "nbconvert_exporter": "python",
   "pygments_lexer": "ipython3",
   "version": "3.6.8"
  }
 },
 "nbformat": 4,
 "nbformat_minor": 2
}
