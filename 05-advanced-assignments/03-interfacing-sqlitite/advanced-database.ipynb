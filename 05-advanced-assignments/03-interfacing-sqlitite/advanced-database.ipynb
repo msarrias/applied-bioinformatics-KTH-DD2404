{
 "cells": [
  {
   "cell_type": "code",
   "execution_count": 3,
   "metadata": {},
   "outputs": [],
   "source": [
    "import sqlite3"
   ]
  },
  {
   "cell_type": "code",
   "execution_count": 14,
   "metadata": {},
   "outputs": [
    {
     "name": "stdout",
     "output_type": "stream",
     "text": [
      "[('Hs', 'Homo sapiens', 'Human'), ('Mm', 'Mus musculus', 'Mouse'), ('Gg', 'Gallus gallus', 'Chicken'), ('Xl', 'Xenopus laevis', 'African clawed frog'), ('Bt', 'Bos taurus', 'Cow'), ('Tr', 'Takifugu rubripes', 'Pufferfish'), ('Br', 'Brachydanio rerio', 'Zebrafish'), ('Dm', 'Drosophila melanogaster', 'Fly'), ('Ce', 'Caenorhabditis elegans', 'Nematode')]\n"
     ]
    }
   ],
   "source": [
    "conn = sqlite3.connect('test_restore_protdb.db')\n",
    "cur = conn.cursor()\n",
    "cur.execute(\"SELECT * from species;\")\n",
    "print(cur.fetchall())"
   ]
  },
  {
   "cell_type": "code",
   "execution_count": null,
   "metadata": {},
   "outputs": [],
   "source": []
  }
 ],
 "metadata": {
  "kernelspec": {
   "display_name": "Python 3",
   "language": "python",
   "name": "python3"
  },
  "language_info": {
   "codemirror_mode": {
    "name": "ipython",
    "version": 3
   },
   "file_extension": ".py",
   "mimetype": "text/x-python",
   "name": "python",
   "nbconvert_exporter": "python",
   "pygments_lexer": "ipython3",
   "version": "3.6.6"
  }
 },
 "nbformat": 4,
 "nbformat_minor": 2
}
