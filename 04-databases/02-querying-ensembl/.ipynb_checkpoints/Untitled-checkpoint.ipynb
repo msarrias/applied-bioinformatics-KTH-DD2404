{
 "cells": [
  {
   "cell_type": "markdown",
   "metadata": {},
   "source": [
    "## Querying Ensembl:"
   ]
  },
  {
   "cell_type": "raw",
   "metadata": {},
   "source": [
    "> brew install mysql\n",
    "> mysql -u anonymous -h ensembldb.ensembl.org -P 3306"
   ]
  },
  {
   "cell_type": "markdown",
   "metadata": {},
   "source": [
    "## Assignment 1"
   ]
  },
  {
   "cell_type": "markdown",
   "metadata": {},
   "source": [
    "> How many databases are available for cat, felis catus?"
   ]
  },
  {
   "cell_type": "raw",
   "metadata": {},
   "source": [
    "mysql> show databases like 'felis%';"
   ]
  },
  {
   "cell_type": "raw",
   "metadata": {},
   "source": [
    "+---------------------------------+\n",
    "| Database (felis%)               |\n",
    "+---------------------------------+\n",
    "| felis_catus_core_48_1c          |\n",
    "| felis_catus_core_49_1c          |\n",
    "| felis_catus_core_50_1d          |\n",
    "| felis_catus_core_51_1e          |\n",
    "| felis_catus_core_52_1f          |\n",
    "| felis_catus_core_53_1f          |\n",
    "| felis_catus_core_54_1f          |\n",
    "| felis_catus_core_55_1f          |\n",
    "| felis_catus_core_56_1f          |\n",
    "| felis_catus_core_57_1f          |\n",
    "| felis_catus_core_58_1g          |\n",
    "| felis_catus_core_59_1h          |\n",
    "| felis_catus_core_60_1i          |\n",
    "| felis_catus_core_61_1j          |\n",
    "| felis_catus_core_62_1k          |\n",
    "| felis_catus_core_63_1           |\n",
    "| felis_catus_core_64_1           |\n",
    "| felis_catus_core_65_1           |\n",
    "| felis_catus_core_66_1           |\n",
    "| felis_catus_core_67_1           |\n",
    "| felis_catus_core_68_1           |\n",
    "| felis_catus_core_69_1           |\n",
    "| felis_catus_core_70_62          |\n",
    "| felis_catus_core_71_62          |\n",
    "| felis_catus_core_72_62          |\n",
    "| felis_catus_core_73_62          |\n",
    "| felis_catus_core_74_62          |\n",
    "| felis_catus_core_75_62          |\n",
    "| felis_catus_core_76_62          |\n",
    "| felis_catus_core_77_62          |\n",
    "| felis_catus_core_78_62          |\n",
    "| felis_catus_core_79_62          |\n",
    "| felis_catus_core_80_62          |\n",
    "| felis_catus_core_81_62          |\n",
    "| felis_catus_core_82_62          |\n",
    "| felis_catus_core_83_62          |\n",
    "| felis_catus_core_84_62          |\n",
    "| felis_catus_core_85_62          |\n",
    "| felis_catus_core_86_62          |\n",
    "| felis_catus_core_87_62          |\n",
    "| felis_catus_core_88_62          |\n",
    "| felis_catus_core_89_62          |\n",
    "| felis_catus_core_90_62          |\n",
    "| felis_catus_core_91_8           |\n",
    "| felis_catus_core_92_8           |\n",
    "| felis_catus_core_93_9           |\n",
    "| felis_catus_core_94_9           |\n",
    "| felis_catus_core_95_9           |\n",
    "| felis_catus_funcgen_92_8        |\n",
    "| felis_catus_funcgen_93_9        |\n",
    "| felis_catus_funcgen_94_9        |\n",
    "| felis_catus_funcgen_95_9        |\n",
    "| felis_catus_otherfeatures_70_62 |\n",
    "| felis_catus_otherfeatures_71_62 |\n",
    "| felis_catus_otherfeatures_72_62 |\n",
    "| felis_catus_otherfeatures_73_62 |\n",
    "| felis_catus_otherfeatures_74_62 |\n",
    "| felis_catus_otherfeatures_75_62 |\n",
    "| felis_catus_otherfeatures_76_62 |\n",
    "| felis_catus_otherfeatures_77_62 |\n",
    "| felis_catus_otherfeatures_78_62 |\n",
    "| felis_catus_otherfeatures_79_62 |\n",
    "| felis_catus_otherfeatures_80_62 |\n",
    "| felis_catus_otherfeatures_81_62 |\n",
    "| felis_catus_otherfeatures_82_62 |\n",
    "| felis_catus_otherfeatures_83_62 |\n",
    "| felis_catus_otherfeatures_84_62 |\n",
    "| felis_catus_otherfeatures_85_62 |\n",
    "| felis_catus_otherfeatures_86_62 |\n",
    "| felis_catus_otherfeatures_87_62 |\n",
    "| felis_catus_otherfeatures_88_62 |\n",
    "| felis_catus_otherfeatures_89_62 |\n",
    "| felis_catus_otherfeatures_90_62 |\n",
    "| felis_catus_otherfeatures_91_8  |\n",
    "| felis_catus_otherfeatures_92_8  |\n",
    "| felis_catus_otherfeatures_93_9  |\n",
    "| felis_catus_otherfeatures_94_9  |\n",
    "| felis_catus_otherfeatures_95_9  |\n",
    "| felis_catus_rnaseq_70_62        |\n",
    "| felis_catus_rnaseq_71_62        |\n",
    "| felis_catus_rnaseq_72_62        |\n",
    "| felis_catus_rnaseq_73_62        |\n",
    "| felis_catus_rnaseq_74_62        |\n",
    "| felis_catus_rnaseq_75_62        |\n",
    "| felis_catus_rnaseq_76_62        |\n",
    "| felis_catus_rnaseq_77_62        |\n",
    "| felis_catus_rnaseq_78_62        |\n",
    "| felis_catus_rnaseq_79_62        |\n",
    "| felis_catus_rnaseq_80_62        |\n",
    "| felis_catus_rnaseq_81_62        |\n",
    "| felis_catus_rnaseq_82_62        |\n",
    "| felis_catus_rnaseq_83_62        |\n",
    "| felis_catus_rnaseq_84_62        |\n",
    "| felis_catus_rnaseq_85_62        |\n",
    "| felis_catus_rnaseq_86_62        |\n",
    "| felis_catus_rnaseq_87_62        |\n",
    "| felis_catus_rnaseq_88_62        |\n",
    "| felis_catus_rnaseq_89_62        |\n",
    "| felis_catus_rnaseq_90_62        |\n",
    "| felis_catus_rnaseq_91_8         |\n",
    "| felis_catus_rnaseq_92_8         |\n",
    "| felis_catus_rnaseq_93_9         |\n",
    "| felis_catus_rnaseq_94_9         |\n",
    "| felis_catus_rnaseq_95_9         |\n",
    "| felis_catus_variation_61_1j     |\n",
    "| felis_catus_variation_62_1k     |\n",
    "| felis_catus_variation_63_1      |\n",
    "| felis_catus_variation_64_1      |\n",
    "| felis_catus_variation_65_1      |\n",
    "| felis_catus_variation_66_1      |\n",
    "| felis_catus_variation_67_1      |\n",
    "| felis_catus_variation_68_1      |\n",
    "| felis_catus_variation_69_1      |\n",
    "| felis_catus_variation_70_62     |\n",
    "| felis_catus_variation_71_62     |\n",
    "| felis_catus_variation_72_62     |\n",
    "| felis_catus_variation_73_62     |\n",
    "| felis_catus_variation_74_62     |\n",
    "| felis_catus_variation_75_62     |\n",
    "| felis_catus_variation_76_62     |\n",
    "| felis_catus_variation_77_62     |\n",
    "| felis_catus_variation_78_62     |\n",
    "| felis_catus_variation_79_62     |\n",
    "| felis_catus_variation_80_62     |\n",
    "| felis_catus_variation_81_62     |\n",
    "| felis_catus_variation_82_62     |\n",
    "| felis_catus_variation_83_62     |\n",
    "| felis_catus_variation_84_62     |\n",
    "| felis_catus_variation_85_62     |\n",
    "| felis_catus_variation_86_62     |\n",
    "| felis_catus_variation_87_62     |\n",
    "| felis_catus_variation_88_62     |\n",
    "| felis_catus_variation_89_62     |\n",
    "| felis_catus_variation_90_62     |\n",
    "| felis_catus_variation_91_8      |\n",
    "| felis_catus_variation_92_8      |\n",
    "| felis_catus_variation_93_9      |\n",
    "| felis_catus_variation_94_9      |\n",
    "| felis_catus_variation_95_9      |\n",
    "+---------------------------------+\n",
    "139 rows in set (0.09 sec)"
   ]
  },
  {
   "cell_type": "markdown",
   "metadata": {},
   "source": [
    "## Assignment 2"
   ]
  },
  {
   "cell_type": "markdown",
   "metadata": {},
   "source": [
    "> Use the show and describe commands to figure:\n",
    "* what tables are related to describing genes, transcripts, and exons. \n",
    "* What information are these tables storing\n",
    "* how do the tables relate to each other?"
   ]
  },
  {
   "cell_type": "markdown",
   "metadata": {},
   "source": [
    "### Genes:"
   ]
  },
  {
   "cell_type": "code",
   "execution_count": 5,
   "metadata": {},
   "outputs": [],
   "source": [
    "## for sehecting a database:\n",
    "## mysql> use DB;"
   ]
  },
  {
   "cell_type": "raw",
   "metadata": {},
   "source": [
    "mysql> show tables like '%gene%';"
   ]
  },
  {
   "cell_type": "raw",
   "metadata": {},
   "source": [
    "mysql> describe gene;"
   ]
  },
  {
   "cell_type": "raw",
   "metadata": {},
   "source": [
    "+-------------------------+----------------------+------+-----+---------+----------------+\n",
    "| Field                   | Type                 | Null | Key | Default | Extra          |\n",
    "+-------------------------+----------------------+------+-----+---------+----------------+\n",
    "| gene_id                 | int(10) unsigned     | NO   | PRI | NULL    | auto_increment |\n",
    "| biotype                 | varchar(40)          | NO   |     | NULL    |                |\n",
    "| analysis_id             | smallint(5) unsigned | NO   | MUL | NULL    |                |\n",
    "| seq_region_id           | int(10) unsigned     | NO   | MUL | NULL    |                |\n",
    "| seq_region_start        | int(10) unsigned     | NO   |     | NULL    |                |\n",
    "| seq_region_end          | int(10) unsigned     | NO   |     | NULL    |                |\n",
    "| seq_region_strand       | tinyint(2)           | NO   |     | NULL    |                |\n",
    "| display_xref_id         | int(10) unsigned     | YES  | MUL | NULL    |                |\n",
    "| source                  | varchar(40)          | NO   |     | NULL    |                |\n",
    "| description             | text                 | YES  |     | NULL    |                |\n",
    "| is_current              | tinyint(1)           | NO   |     | 1       |                |\n",
    "| canonical_transcript_id | int(10) unsigned     | NO   | MUL | NULL    |                |\n",
    "| stable_id               | varchar(128)         | YES  | MUL | NULL    |                |\n",
    "| version                 | smallint(5) unsigned | YES  |     | NULL    |                |\n",
    "| created_date            | datetime             | YES  |     | NULL    |                |\n",
    "| modified_date           | datetime             | YES  |     | NULL    |                |\n",
    "+-------------------------+----------------------+------+-----+---------+----------------+\n",
    "16 rows in set (0.06 sec)\n"
   ]
  },
  {
   "cell_type": "markdown",
   "metadata": {},
   "source": [
    "### Transcripts:"
   ]
  },
  {
   "cell_type": "raw",
   "metadata": {},
   "source": [
    "mysql> show tables like '%transcript%';"
   ]
  },
  {
   "cell_type": "raw",
   "metadata": {},
   "source": [
    "mysql> describe transcript;"
   ]
  },
  {
   "cell_type": "raw",
   "metadata": {},
   "source": [
    "+--------------------------+----------------------+------+-----+---------+----------------+\n",
    "| Field                    | Type                 | Null | Key | Default | Extra          |\n",
    "+--------------------------+----------------------+------+-----+---------+----------------+\n",
    "| transcript_id            | int(10) unsigned     | NO   | PRI | NULL    | auto_increment |\n",
    "| gene_id                  | int(10) unsigned     | YES  | MUL | NULL    |                |\n",
    "| analysis_id              | smallint(5) unsigned | NO   | MUL | NULL    |                |\n",
    "| seq_region_id            | int(10) unsigned     | NO   | MUL | NULL    |                |\n",
    "| seq_region_start         | int(10) unsigned     | NO   |     | NULL    |                |\n",
    "| seq_region_end           | int(10) unsigned     | NO   |     | NULL    |                |\n",
    "| seq_region_strand        | tinyint(2)           | NO   |     | NULL    |                |\n",
    "| display_xref_id          | int(10) unsigned     | YES  | MUL | NULL    |                |\n",
    "| source                   | varchar(40)          | NO   |     | ensembl |                |\n",
    "| biotype                  | varchar(40)          | NO   |     | NULL    |                |\n",
    "| description              | text                 | YES  |     | NULL    |                |\n",
    "| is_current               | tinyint(1)           | NO   |     | 1       |                |\n",
    "| canonical_translation_id | int(10) unsigned     | YES  | UNI | NULL    |                |\n",
    "| stable_id                | varchar(128)         | YES  | MUL | NULL    |                |\n",
    "| version                  | smallint(5) unsigned | YES  |     | NULL    |                |\n",
    "| created_date             | datetime             | YES  |     | NULL    |                |\n",
    "| modified_date            | datetime             | YES  |     | NULL    |                |\n",
    "+--------------------------+----------------------+------+-----+---------+----------------+"
   ]
  },
  {
   "cell_type": "markdown",
   "metadata": {},
   "source": [
    "### Exons:"
   ]
  },
  {
   "cell_type": "raw",
   "metadata": {},
   "source": [
    "mysql> show tables like '%exon%';"
   ]
  },
  {
   "cell_type": "raw",
   "metadata": {},
   "source": [
    "mysql> describe exon;"
   ]
  },
  {
   "cell_type": "raw",
   "metadata": {},
   "source": [
    "+-------------------+----------------------+------+-----+---------+----------------+\n",
    "| Field             | Type                 | Null | Key | Default | Extra          |\n",
    "+-------------------+----------------------+------+-----+---------+----------------+\n",
    "| exon_id           | int(10) unsigned     | NO   | PRI | NULL    | auto_increment |\n",
    "| seq_region_id     | int(10) unsigned     | NO   | MUL | NULL    |                |\n",
    "| seq_region_start  | int(10) unsigned     | NO   |     | NULL    |                |\n",
    "| seq_region_end    | int(10) unsigned     | NO   |     | NULL    |                |\n",
    "| seq_region_strand | tinyint(2)           | NO   |     | NULL    |                |\n",
    "| phase             | tinyint(2)           | NO   |     | NULL    |                |\n",
    "| end_phase         | tinyint(2)           | NO   |     | NULL    |                |\n",
    "| is_current        | tinyint(1)           | NO   |     | 1       |                |\n",
    "| is_constitutive   | tinyint(1)           | NO   |     | 0       |                |\n",
    "| stable_id         | varchar(128)         | YES  | MUL | NULL    |                |\n",
    "| version           | smallint(5) unsigned | YES  |     | NULL    |                |\n",
    "| created_date      | datetime             | YES  |     | NULL    |                |\n",
    "| modified_date     | datetime             | YES  |     | NULL    |                |\n",
    "+-------------------+----------------------+------+-----+---------+----------------+\n",
    "13 rows in set (0.06 sec)\n",
    "\n"
   ]
  },
  {
   "cell_type": "markdown",
   "metadata": {},
   "source": [
    "## Assignment 3"
   ]
  },
  {
   "cell_type": "markdown",
   "metadata": {},
   "source": [
    "> How many genes are registred for human? Make a breakdown based on the column \"biotype\" by using the GROUP BY directive."
   ]
  },
  {
   "cell_type": "raw",
   "metadata": {},
   "source": [
    " mysql -u anonymous -h ensembldb.ensembl.org -P 3306 homo_sapiens_core_90_38"
   ]
  },
  {
   "cell_type": "raw",
   "metadata": {},
   "source": [
    "mysql> SELECT COUNT(*) FROM gene;"
   ]
  },
  {
   "cell_type": "raw",
   "metadata": {},
   "source": [
    "+----------+\n",
    "| COUNT(*) |\n",
    "+----------+\n",
    "|    64661 |\n",
    "+----------+"
   ]
  },
  {
   "cell_type": "raw",
   "metadata": {},
   "source": [
    "mysql> SELECT biotype, COUNT(*)\n",
    "    -> FROM gene\n",
    "    -> GROUP BY biotype;"
   ]
  },
  {
   "cell_type": "raw",
   "metadata": {},
   "source": [
    "+------------------------------------+----------+\n",
    "| biotype                            | COUNT(*) |\n",
    "+------------------------------------+----------+\n",
    "| 3prime_overlapping_ncRNA           |       31 |\n",
    "| antisense_RNA                      |     5718 |\n",
    "| bidirectional_promoter_lncRNA      |       19 |\n",
    "| IG_C_gene                          |       23 |\n",
    "| IG_C_pseudogene                    |       11 |\n",
    "| IG_D_gene                          |       64 |\n",
    "| IG_J_gene                          |       24 |\n",
    "| IG_J_pseudogene                    |        6 |\n",
    "| IG_pseudogene                      |        1 |\n",
    "| IG_V_gene                          |      227 |\n",
    "| IG_V_pseudogene                    |      290 |\n",
    "| lincRNA                            |     7821 |\n",
    "| LRG_gene                           |      694 |\n",
    "| macro_lncRNA                       |        1 |\n",
    "| miRNA                              |     1890 |\n",
    "| misc_RNA                           |     2390 |\n",
    "| Mt_rRNA                            |        2 |\n",
    "| Mt_tRNA                            |       22 |\n",
    "| non_coding                         |        3 |\n",
    "| polymorphic_pseudogene             |       90 |\n",
    "| processed_pseudogene               |    10803 |\n",
    "| processed_transcript               |      860 |\n",
    "| protein_coding                     |    22375 |\n",
    "| pseudogene                         |       40 |\n",
    "| ribozyme                           |        8 |\n",
    "| rRNA                               |      569 |\n",
    "| scaRNA                             |       52 |\n",
    "| scRNA                              |        1 |\n",
    "| sense_intronic                     |      932 |\n",
    "| sense_overlapping                  |      192 |\n",
    "| snoRNA                             |     1006 |\n",
    "| snRNA                              |     2053 |\n",
    "| sRNA                               |        6 |\n",
    "| TEC                                |     1093 |\n",
    "| transcribed_processed_pseudogene   |      521 |\n",
    "| transcribed_unitary_pseudogene     |      114 |\n",
    "| transcribed_unprocessed_pseudogene |      974 |\n",
    "| translated_processed_pseudogene    |        2 |\n",
    "| TR_C_gene                          |        8 |\n",
    "| TR_D_gene                          |        5 |\n",
    "| TR_J_gene                          |       93 |\n",
    "| TR_J_pseudogene                    |        4 |\n",
    "| TR_V_gene                          |      161 |\n",
    "| TR_V_pseudogene                    |       43 |\n",
    "| unitary_pseudogene                 |       99 |\n",
    "| unprocessed_pseudogene             |     3319 |\n",
    "| vaultRNA                           |        1 |\n",
    "+------------------------------------+----------+"
   ]
  },
  {
   "cell_type": "markdown",
   "metadata": {},
   "source": [
    "## Assignment 4"
   ]
  },
  {
   "cell_type": "markdown",
   "metadata": {},
   "source": [
    "> How many processed pseudogenes have a non-empty description string? "
   ]
  },
  {
   "cell_type": "raw",
   "metadata": {},
   "source": [
    "mysql> SELECT COUNT(*) FROM gene WHERE biotype = 'processed_pseudogene' AND description IS NOT NULL;"
   ]
  },
  {
   "cell_type": "raw",
   "metadata": {},
   "source": [
    "+----------+\n",
    "| COUNT(*) |\n",
    "+----------+\n",
    "|     5283 |\n",
    "+----------+"
   ]
  },
  {
   "cell_type": "markdown",
   "metadata": {},
   "source": [
    "## Assignment 5"
   ]
  },
  {
   "cell_type": "markdown",
   "metadata": {},
   "source": [
    "> How many transcripts are associated with the two breast-cancer associated genes BRCA1 (ENSG00000012048) and BRCA2 (ENSG00000139618)? Your solution is supposed to be written as one SQL query. "
   ]
  },
  {
   "cell_type": "raw",
   "metadata": {},
   "source": [
    "mysql> mysql> SELECT gene_id, description FROM gene WHERE description LIKE \"%BRCA1%\" OR description  LIKE \"%BRCA2%\" GROUP BY gene_id;"
   ]
  },
  {
   "cell_type": "raw",
   "metadata": {},
   "source": [
    "+---------+-------------------------------------------------------------------------------------------+\n",
    "| gene_id | description                                                                               |\n",
    "+---------+-------------------------------------------------------------------------------------------+\n",
    "|  131115 | BRCA2, DNA repair associated [Source:HGNC Symbol;Acc:HGNC:1101]                           |\n",
    "|  133548 | BRCA1 associated ATM activator 1 [Source:HGNC Symbol;Acc:HGNC:21701]                      |\n",
    "|  134203 | BRCA1 associated protein [Source:HGNC Symbol;Acc:HGNC:1099]                               |\n",
    "|  145208 | BRISC and BRCA1 A complex member 2 [Source:HGNC Symbol;Acc:HGNC:1106]                     |\n",
    "|  154251 | BRCA1/BRCA2-containing complex subunit 3 pseudogene 1 [Source:HGNC Symbol;Acc:HGNC:51444] |\n",
    "|  155145 | BRCA2 and CDKN1A interacting protein [Source:HGNC Symbol;Acc:HGNC:978]                    |\n",
    "|  164395 | BRCA1 interacting protein C-terminal helicase 1 [Source:HGNC Symbol;Acc:HGNC:20473]       |\n",
    "|  175918 | abraxas 1, BRCA1 A complex subunit [Source:HGNC Symbol;Acc:HGNC:25829]                    |\n",
    "|  177755 | neighbor of BRCA1 gene 2 (non-protein coding) [Source:HGNC Symbol;Acc:HGNC:20691]         |\n",
    "|  177770 | BRCA1, DNA repair associated [Source:HGNC Symbol;Acc:HGNC:1100]                           |\n",
    "|  178593 | BRISC and BRCA1 A complex member 1 [Source:HGNC Symbol;Acc:HGNC:25008]                    |\n",
    "|  178870 | BRCA1/BRCA2-containing complex subunit 3 [Source:HGNC Symbol;Acc:HGNC:24185]              |\n",
    "|  178936 | BRCA1 associated protein 1 [Source:HGNC Symbol;Acc:HGNC:950]                              |\n",
    "|  180323 | BRCA1 associated RING domain 1 [Source:HGNC Symbol;Acc:HGNC:952]                          |\n",
    "|  181928 | partner and localizer of BRCA2 [Source:HGNC Symbol;Acc:HGNC:26144]                        |\n",
    "|  182195 | EMSY, BRCA2 interacting transcriptional repressor [Source:HGNC Symbol;Acc:HGNC:18071]     |\n",
    "|  193469 | BRCA1, DNA repair associated [Source:HGNC Symbol;Acc:HGNC:1100]                           |\n",
    "|  193470 | BRCA2, DNA repair associated [Source:HGNC Symbol;Acc:HGNC:1101]                           |\n",
    "|  193478 | BRCA1 interacting protein C-terminal helicase 1 [Source:HGNC Symbol;Acc:HGNC:20473]       |\n",
    "|  193483 | partner and localizer of BRCA2 [Source:HGNC Symbol;Acc:HGNC:26144]                        |\n",
    "|  193698 | BRCA1 associated protein 1 [Source:HGNC Symbol;Acc:HGNC:950]                              |\n",
    "+---------+-------------------------------------------------------------------------------------------+\n",
    "21 rows in set (0.09 sec)\n",
    "\n"
   ]
  },
  {
   "cell_type": "raw",
   "metadata": {},
   "source": [
    "mysql> SELECT gene_id FROM gene WHERE description LIKE \"%BRCA1%\" OR description  LIKE \"%BRCA2%\";"
   ]
  },
  {
   "cell_type": "raw",
   "metadata": {},
   "source": [
    "+---------+\n",
    "| gene_id |\n",
    "+---------+\n",
    "|  177755 |\n",
    "|  178593 |\n",
    "|  180323 |\n",
    "|  178870 |\n",
    "|  178936 |\n",
    "|  181928 |\n",
    "|  182195 |\n",
    "|  177770 |\n",
    "|  175918 |\n",
    "|  155145 |\n",
    "|  154251 |\n",
    "|  164395 |\n",
    "|  145208 |\n",
    "|  131115 |\n",
    "|  133548 |\n",
    "|  134203 |\n",
    "|  193469 |\n",
    "|  193470 |\n",
    "|  193478 |\n",
    "|  193483 |\n",
    "|  193698 |\n",
    "+---------+\n",
    "21 rows in set (0.09 sec)"
   ]
  },
  {
   "cell_type": "raw",
   "metadata": {},
   "source": [
    "mysql> SELECT gene_id, COUNT(*) FROM gene WHERE description LIKE \"%BRCA1%\" OR description  LIKE \"%BRCA2%\";"
   ]
  },
  {
   "cell_type": "raw",
   "metadata": {},
   "source": [
    "+---------+----------+\n",
    "| gene_id | COUNT(*) |\n",
    "+---------+----------+\n",
    "|  177755 |       21 |\n",
    "+---------+----------+"
   ]
  },
  {
   "cell_type": "raw",
   "metadata": {},
   "source": [
    "mysql> select gene.gene_id, transcript.gene_id, transcript_id from gene, transcript\n",
    "    -> WHERE gene.description LIKE \"%BRCA1%\" OR gene.description  LIKE \"%BRCA2%\" GROUP BY gene.description                                                      -> AND gene.gene_id = transcript.gene_id; "
   ]
  },
  {
   "cell_type": "raw",
   "metadata": {},
   "source": [
    "mysql> select tr.gene_id, COUNT(*) from gene \n",
    "    -> join transcript as tr on tr.gene_id = gene.gene_id \n",
    "    -> where gene.description like \"%BRCA1%\" or gene.description like \"%BRCA2%\" GROUP BY tr.gene_id;"
   ]
  },
  {
   "cell_type": "raw",
   "metadata": {},
   "source": [
    "+---------+----------+\n",
    "| gene_id | COUNT(*) |\n",
    "+---------+----------+\n",
    "|  131115 |        7 |\n",
    "|  133548 |        6 |\n",
    "|  134203 |        3 |\n",
    "|  145208 |       11 |\n",
    "|  154251 |        1 |\n",
    "|  155145 |        5 |\n",
    "|  164395 |        6 |\n",
    "|  175918 |        9 |\n",
    "|  177755 |        4 |\n",
    "|  177770 |       30 |\n",
    "|  178593 |       18 |\n",
    "|  178870 |       10 |\n",
    "|  178936 |       11 |\n",
    "|  180323 |       14 |\n",
    "|  181928 |        6 |\n",
    "|  182195 |       18 |\n",
    "|  193469 |        1 |\n",
    "|  193470 |        1 |\n",
    "|  193478 |        1 |\n",
    "|  193483 |        1 |\n",
    "|  193698 |        1 |\n",
    "+---------+----------+\n",
    "21 rows in set (0.11 sec)"
   ]
  },
  {
   "cell_type": "raw",
   "metadata": {},
   "source": [
    "mysql> SELECT COUNT(*) from gene\n",
    "    -> join transcript as tr on tr.gene_id = gene.gene_id\n",
    "    -> where gene.description like \"%BRCA1%\" or gene.description like \"%BRCA2%\";"
   ]
  },
  {
   "cell_type": "raw",
   "metadata": {},
   "source": [
    "+----------+\n",
    "| COUNT(*) |\n",
    "+----------+\n",
    "|      164 |\n",
    "+----------+\n",
    "1 row in set (0.09 sec)"
   ]
  },
  {
   "cell_type": "code",
   "execution_count": null,
   "metadata": {},
   "outputs": [],
   "source": []
  }
 ],
 "metadata": {
  "kernelspec": {
   "display_name": "Python 3",
   "language": "python",
   "name": "python3"
  },
  "language_info": {
   "codemirror_mode": {
    "name": "ipython",
    "version": 3
   },
   "file_extension": ".py",
   "mimetype": "text/x-python",
   "name": "python",
   "nbconvert_exporter": "python",
   "pygments_lexer": "ipython3",
   "version": "3.6.6"
  }
 },
 "nbformat": 4,
 "nbformat_minor": 2
}
