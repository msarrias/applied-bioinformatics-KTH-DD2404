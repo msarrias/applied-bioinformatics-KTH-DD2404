{
 "cells": [
  {
   "cell_type": "markdown",
   "metadata": {},
   "source": [
    "### Lab:4 - 04.Blast parsing:"
   ]
  },
  {
   "cell_type": "markdown",
   "metadata": {},
   "source": [
    "### Requirements\n",
    "Write a Python program that fulfils the following.\n",
    "\n",
    "1. Your program is an executable Python file taking two inputs:\n",
    "A command line argument with a string that should match \"Hit_id\", \"Hit_def\", or \"Hit_accession\" field in the Blast hit list, e.g., \"mouse\".\n",
    "A file to read input from. The file contains Blast XML data.\n",
    "An extra smile from the tutor if you can read from stdin if the filename is a dash (\"-\")!  :-)\n",
    "2. Output goes to stdout and is a table with four columns,\n",
    "Query accession: \"BlastOutput_query-def\"\n",
    "Target accession: \"Hit_def\", but don't keep more than the 20 first characters!\n",
    "The bit score, found in \"Hsp_bit-score\"\n",
    "E-value, found in \"Hsp_evalue\"\n",
    "in which only sequences with an id, definition (\"description\"), or accession matching the input substring are listed. There might be several HSPs from the same target accession, but only the one with lowest E-value should be shown."
   ]
  },
  {
   "cell_type": "code",
   "execution_count": 1,
   "metadata": {},
   "outputs": [],
   "source": [
    "from Bio.Blast import NCBIXML\n",
    "from Bio.Blast import NCBIWWW\n",
    "    "
   ]
  },
  {
   "cell_type": "code",
   "execution_count": 2,
   "metadata": {},
   "outputs": [],
   "source": [
    "def format_to_twenty_characters(alignment_def):\n",
    "    \"\"\"\n",
    "    format_to_ten_characters is a function that limits the sequence_name length to 10.\n",
    "    :param sequence_name: \n",
    "    :return: sequence_name limited to 10 characters.\n",
    "    \n",
    "    \"\"\"\n",
    "    # if the sequence length is greater than 10 take just the first 10 characters and add 4 spaces this to create \n",
    "    # more distance on the matrix.\n",
    "    if len(alignment_def) > 20:\n",
    "        return alignment_def[:20]\n",
    "    # if it's less than ten add blank spaces for the remaining, plus 4 more spaces.\n",
    "    return sequence_name + ' ' * (20 - len(alignment_def))\n"
   ]
  },
  {
   "cell_type": "code",
   "execution_count": 39,
   "metadata": {},
   "outputs": [],
   "source": [
    "def hit_match_funct(alignment_hsps):\n",
    "    if (hit_match in alignment.hit_def) or (hit_match in alignment.hit_def) :\n",
    "        print(\n",
    "            record.query,\n",
    "            format_to_twenty_characters(alignment.hit_def),\n",
    "            round(hsp.bits,2),\n",
    "            hsp.expect\n",
    "            )\n",
    "    return True, 'no hits'\n"
   ]
  },
  {
   "cell_type": "code",
   "execution_count": 41,
   "metadata": {},
   "outputs": [
    {
     "name": "stdout",
     "output_type": "stream",
     "text": [
      "CST3 lcl|CYTC_MOUSE (P214 185.27 3.45493e-47\n"
     ]
    }
   ],
   "source": [
    "E_VALUE_THRESH = 1e-20\n",
    "hit_match = 'MOUSE'\n",
    "with open('test2.xml', 'r') as f: \n",
    "    blast_records_by_name2 = NCBIXML.parse(f)\n",
    "    for record in blast_records_by_name2:\n",
    "        for alignment in record.alignments:\n",
    "            for hsp in alignment.hsps:\n",
    "                    if hsp.expect < E_VALUE_THRESH:\n",
    "                        hit_match_funct(alignment.hsps)"
   ]
  },
  {
   "cell_type": "code",
   "execution_count": 40,
   "metadata": {},
   "outputs": [
    {
     "name": "stdout",
     "output_type": "stream",
     "text": [
      "CST3 lcl|CYTC_MOUSE (P214 185.27 3.45493e-47\n",
      "CST8 lcl|CST8_MOUSE (P327 158.3 4.24977e-39\n",
      "CST11 lcl|CS11_MOUSE (Q9D2 150.21 1.05211e-36\n",
      "CST3 lcl|CYTC_MOUSE (P214 185.27 3.45493e-47\n",
      "VEGA lcl|CST9_MOUSE (Q9Z0 125.56 3.31787e-29\n",
      "CST9 lcl|CST9_MOUSE (Q9Z0 109.38 2.95116e-24\n",
      "CST9L lcl|CST9_MOUSE (Q9Z0 126.33 1.94512e-29\n"
     ]
    }
   ],
   "source": [
    "E_VALUE_THRESH = 1e-20\n",
    "filenames = ['test1.xml', 'test2.xml', 'cst_blast.xml']\n",
    "blast_records_by_name = dict()\n",
    "for filename in filenames:\n",
    "    with open(filename, 'r') as f: \n",
    "        blast_records_name = filename[:-4] + '_br'\n",
    "        blast_records_by_name[blast_records_name] = NCBIXML.parse(f)\n",
    "        for record in blast_records_by_name[blast_records_name]:\n",
    "            for alignment in record.alignments:\n",
    "                for hsp in alignment.hsps:\n",
    "                     if hsp.expect < E_VALUE_THRESH:\n",
    "                        if 'MOUSE' in alignment.hit_def:\n",
    "                            print(record.query,format_to_twenty_characters(alignment.hit_def), round(hsp.bits,2), hsp.expect)\n",
    "\n"
   ]
  },
  {
   "cell_type": "markdown",
   "metadata": {},
   "source": [
    "### Parsing:"
   ]
  },
  {
   "cell_type": "code",
   "execution_count": 29,
   "metadata": {},
   "outputs": [
    {
     "name": "stdout",
     "output_type": "stream",
     "text": [
      "****Alignment****\n",
      "sequence: gnl|BL_ORD_ID|21128 lcl|CST8_HUMAN (O60676) Cystatin-related epididymal spermatogenic protein precursor (Cystatin 8)\n",
      "length: 142\n",
      "e value: 5.49912e-71\n",
      "MPRCRWLSLILLTIPLALVARKDPKKNETGVLRKLKPVNASNANVKQCLWFAMQEYNKESEDKYVFLVVKTLQAQ...\n",
      "MPRCRWLSLILLTIPLALVARKDPKKNETGVLRKLKPVNASNANVKQCLWFAMQEYNKESEDKYVFLVVKTLQAQ...\n",
      "MPRCRWLSLILLTIPLALVARKDPKKNETGVLRKLKPVNASNANVKQCLWFAMQEYNKESEDKYVFLVVKTLQAQ...\n",
      "****Alignment****\n",
      "sequence: gnl|BL_ORD_ID|21141 lcl|CSTL_HUMAN (Q9H114) Cystatin-like 1 precursor\n",
      "length: 165\n",
      "e value: 8.83679e-72\n",
      "MGIGCWRNPLLLLIALVLSAKLGHFQRWEGFQQKLMSKKNMNSTLNFFIQSYNNASNDTYLYRVQRLIRSQMQ--...\n",
      "MGIGCWRNPLLLLIALVLSAKLGHFQRWEGFQQKLMSKKNMNSTLNFFIQSYNNASNDTYLYRVQRLIRSQMQ  ...\n",
      "MGIGCWRNPLLLLIALVLSAKLGHFQRWEGFQQKLMSKKNMNSTLNFFIQSYNNASNDTYLYRVQRLIRSQMQER...\n",
      "****Alignment****\n",
      "sequence: gnl|BL_ORD_ID|21131 lcl|CST9_HUMAN (Q9H4G1) Cystatin 9-like precursor\n",
      "length: 147\n",
      "e value: 4.42227e-74\n",
      "MLGLPWKGGLSWALLLLLLGSQILLIYAWHFHEQRDCDEHNVMARYLPATVEFAVHTFNQQSKDYYAYRLGHILN...\n",
      "MLGLPWKGGLSWALLLLLLGSQILLIYAWHFHEQRDCDEHNVMARYLPATVEFAVHTFNQQSKDYYAYRLGHILN...\n",
      "MLGLPWKGGLSWALLLLLLGSQILLIYAWHFHEQRDCDEHNVMARYLPATVEFAVHTFNQQSKDYYAYRLGHILN...\n"
     ]
    }
   ],
   "source": [
    "E_VALUE_THRESH = 1e-20\n",
    "hit_match = 'MOUSE'\n",
    "with open('test1.xml', 'r') as f: \n",
    "    blast_records_by_name2 = NCBIXML.parse(f)\n",
    "    for record in blast_records_by_name2:\n",
    "        for alignment in record.alignments:\n",
    "            for hsp in alignment.hsps:\n",
    "                    if hsp.expect < E_VALUE_THRESH:\n",
    "                        hit_match_funct(alignment.hsps)\n",
    "                        print(\"****Alignment****\")\n",
    "                        print(\"sequence:\", alignment.title)\n",
    "                        print(\"length:\", alignment.length)\n",
    "                        print(\"e value:\", hsp.expect)\n",
    "                        print(hsp.query[0:75] + \"...\")\n",
    "                        print(hsp.match[0:75] + \"...\")\n",
    "                        print(hsp.sbjct[0:75] + \"...\")"
   ]
  }
 ],
 "metadata": {
  "kernelspec": {
   "display_name": "Python 3",
   "language": "python",
   "name": "python3"
  },
  "language_info": {
   "codemirror_mode": {
    "name": "ipython",
    "version": 3
   },
   "file_extension": ".py",
   "mimetype": "text/x-python",
   "name": "python",
   "nbconvert_exporter": "python",
   "pygments_lexer": "ipython3",
   "version": "3.6.6"
  }
 },
 "nbformat": 4,
 "nbformat_minor": 2
}
