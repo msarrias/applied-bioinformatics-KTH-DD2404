{
 "cells": [
  {
   "cell_type": "markdown",
   "metadata": {},
   "source": [
    "### Lab:4 - 02.KLEEK aligned:"
   ]
  },
  {
   "cell_type": "markdown",
   "metadata": {},
   "source": [
    "### Instructions:\n",
    "\n",
    "Note: This assignment is connected to the motif filter assignment.\n",
    "\n",
    "Determine whether the sequences are conserved enough around the KLEEK motif that its alignment is perfect: the motif sequences are lining up. \n",
    "\n",
    "Take the test file and retrieve the sequences that contain the KLEEK motif.\n",
    "Use the program 'muscle' to compute a multialignment of the KLEEK sequences.\n",
    "Use the alignment viewer 'seaview' to inspect the alignment. How well do the KLEEK motifs align?\n",
    "Utilizing known sequence features is a good way of ensuring that a multiple sequence alignment is good.\n",
    "\n",
    "### To present:\n",
    "Explain the purpose of multialignments!\n",
    "Does the KLEEK motif line up in your multialignment?\n"
   ]
  },
  {
   "cell_type": "markdown",
   "metadata": {},
   "source": [
    "http://assets.geneious.com/manual/8.0/GeneiousManualse38.html#GeneiousManualsu62.html\n",
    "### There is a lot of variation between the sequences. The KLEEK motif it is indeed lined up in the multialingment."
   ]
  },
  {
   "cell_type": "code",
   "execution_count": 1,
   "metadata": {},
   "outputs": [],
   "source": [
    "import sys\n",
    "import subprocess\n",
    "from Bio import AlignIO\n",
    "from Bio.Align.Applications import MuscleCommandline"
   ]
  },
  {
   "cell_type": "code",
   "execution_count": 10,
   "metadata": {},
   "outputs": [],
   "source": [
    "#export PATH=$PATH:/Users/user/bin/muscle bin/.bash_profile\n",
    "muscle_exe = \"muscle\"\n",
    "in_file = \"motif_sequence.fa\"\n",
    "out_file = \"out_motif_sequence.fa\""
   ]
  },
  {
   "cell_type": "code",
   "execution_count": 11,
   "metadata": {},
   "outputs": [],
   "source": [
    "muscle_result = subprocess.check_output([muscle_exe, \"-in\", in_file, \"-out\", out_file])\n",
    "cline = MuscleCommandline(muscle_exe, input=in_file, out=out_file)"
   ]
  },
  {
   "cell_type": "code",
   "execution_count": null,
   "metadata": {},
   "outputs": [],
   "source": []
  }
 ],
 "metadata": {
  "kernelspec": {
   "display_name": "Python 3",
   "language": "python",
   "name": "python3"
  },
  "language_info": {
   "codemirror_mode": {
    "name": "ipython",
    "version": 3
   },
   "file_extension": ".py",
   "mimetype": "text/x-python",
   "name": "python",
   "nbconvert_exporter": "python",
   "pygments_lexer": "ipython3",
   "version": "3.6.6"
  }
 },
 "nbformat": 4,
 "nbformat_minor": 2
}
