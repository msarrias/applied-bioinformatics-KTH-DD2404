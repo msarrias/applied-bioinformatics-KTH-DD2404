{
 "cells": [
  {
   "cell_type": "code",
   "execution_count": 5,
   "metadata": {},
   "outputs": [],
   "source": [
    "from Bio import SeqIO\n",
    "from Bio.Seq import Seq, transcribe, translate\n",
    "import sys"
   ]
  },
  {
   "cell_type": "code",
   "execution_count": 37,
   "metadata": {
    "collapsed": true
   },
   "outputs": [
    {
     "ename": "FileNotFoundError",
     "evalue": "[Errno 2] No such file or directory: '-f'",
     "output_type": "error",
     "traceback": [
      "\u001b[0;31m---------------------------------------------------------------------------\u001b[0m",
      "\u001b[0;31mFileNotFoundError\u001b[0m                         Traceback (most recent call last)",
      "\u001b[0;32m<ipython-input-37-dca8da5ce93d>\u001b[0m in \u001b[0;36m<module>\u001b[0;34m\u001b[0m\n\u001b[1;32m     11\u001b[0m         \u001b[0;31m#my_sequence_recorded_iterable is a list, each sequence of the file will have a sequence record,\u001b[0m\u001b[0;34m\u001b[0m\u001b[0;34m\u001b[0m\u001b[0m\n\u001b[1;32m     12\u001b[0m         \u001b[0;31m#the record is composed by seq, id, name and description.\u001b[0m\u001b[0;34m\u001b[0m\u001b[0;34m\u001b[0m\u001b[0m\n\u001b[0;32m---> 13\u001b[0;31m         \u001b[0mmy_sequence_recorded_iterable\u001b[0m \u001b[0;34m=\u001b[0m \u001b[0mlist\u001b[0m\u001b[0;34m(\u001b[0m\u001b[0mSeqIO\u001b[0m\u001b[0;34m.\u001b[0m\u001b[0mparse\u001b[0m\u001b[0;34m(\u001b[0m\u001b[0mopen\u001b[0m\u001b[0;34m(\u001b[0m\u001b[0mfilename\u001b[0m\u001b[0;34m,\u001b[0m \u001b[0mmode\u001b[0m\u001b[0;34m=\u001b[0m\u001b[0;34m'r'\u001b[0m\u001b[0;34m)\u001b[0m\u001b[0;34m,\u001b[0m \u001b[0;34m'fasta'\u001b[0m\u001b[0;34m)\u001b[0m\u001b[0;34m)\u001b[0m\u001b[0;34m\u001b[0m\u001b[0m\n\u001b[0m\u001b[1;32m     14\u001b[0m         \u001b[0;31m# if the length of the list is empty print a warning and write to stderr.\u001b[0m\u001b[0;34m\u001b[0m\u001b[0;34m\u001b[0m\u001b[0m\n\u001b[1;32m     15\u001b[0m         \u001b[0;32mif\u001b[0m \u001b[0mlen\u001b[0m\u001b[0;34m(\u001b[0m\u001b[0mmy_sequence_recorded_iterable\u001b[0m\u001b[0;34m)\u001b[0m \u001b[0;34m==\u001b[0m \u001b[0;36m0\u001b[0m\u001b[0;34m:\u001b[0m\u001b[0;34m\u001b[0m\u001b[0m\n",
      "\u001b[0;31mFileNotFoundError\u001b[0m: [Errno 2] No such file or directory: '-f'"
     ]
    }
   ],
   "source": [
    "file_out='gene_seq_out.fasta'\n",
    "\n",
    "if __name__ == '__main__':\n",
    "    # filenames_list = list of entered arguments from command line.\n",
    "    file_in = sys.argv[1:]\n",
    "\n",
    "#Open output file and write\n",
    "with open(file_out, 'w') as f_out:\n",
    "    #as file_in is a list, could have more than one file so we need to iterate.\n",
    "    for filename in file_in:\n",
    "        #my_sequence_recorded_iterable is a list, each sequence of the file will have a sequence record, \n",
    "        #the record is composed by seq, id, name and description.\n",
    "        my_sequence_recorded_iterable = list(SeqIO.parse(open(filename, mode='r'), 'fasta'))\n",
    "        # if the length of the list is empty print a warning and write to stderr.\n",
    "        if len(my_sequence_recorded_iterable) == 0:\n",
    "            print(f'WARNING file: {filename}: Empty file', file=sys.stderr)\n",
    "        #now we will iterate on my_sequence_recorded_iterable list, with seq_record elements\n",
    "        for seq_record in my_sequence_recorded_iterable:\n",
    "            #seq_record.description=' '.join(seq_record.description.split()[1:])  in here I edit the description\n",
    "            # as it originally contains the id.\n",
    "            # we now write each iterated sequence 'seq_record' in our output file f_out as fasta format.\n",
    "            SeqIO.write(seq_record, f_out, 'fasta')\n",
    "            #We now print to stdoout.\n",
    "            print('>' + seq_record.id)\n",
    "            print(translate(seq_record.seq))"
   ]
  },
  {
   "cell_type": "markdown",
   "metadata": {},
   "source": [
    "## Running Example:"
   ]
  },
  {
   "cell_type": "code",
   "execution_count": 41,
   "metadata": {
    "scrolled": true
   },
   "outputs": [
    {
     "name": "stdout",
     "output_type": "stream",
     "text": [
      ">single_stop_codon\n",
      "*\n",
      ">stopcodons\n",
      "***************************\n",
      ">ambiguities\n",
      "XXXXXXXXXXXXXXXXXX\n",
      ">proteinalphabet\n",
      "ARNDCQEGHILKMFPSTWYV\n",
      ">proteinalphabet2\n",
      "ARNDCQEGHILKMFPSTWYV\n",
      ">proteinalphabet3\n",
      "ARNDCQEGHILKMFPSTWYV\n",
      ">tooshort\n",
      "\n",
      ">short\n",
      "*Q*\n"
     ]
    }
   ],
   "source": [
    "file_out='gene_seq_out.fasta'\n",
    "\n",
    "if __name__ == '__main__':\n",
    "    # filenames_list = list of entered arguments from command line.\n",
    "    file_in = ['translationtest.dna']\n",
    "\n",
    "#Open output file and write\n",
    "with open(file_out, 'w') as f_out:\n",
    "    #as file_in is a list, could have more than one file so we need to iterate.\n",
    "    for filename in file_in:\n",
    "        #my_sequence_recorded_iterable is a list, each sequence of the file will have a sequence record, \n",
    "        #the record is composed by seq, id, name and description.\n",
    "        my_sequence_recorded_iterable = list(SeqIO.parse(open(filename, mode='r'), 'fasta'))\n",
    "        # if the length of the list is empty print a warning and write to stderr.\n",
    "        if len(my_sequence_recorded_iterable) == 0:\n",
    "            print(f'WARNING file: {filename}: Empty file', file=sys.stderr)\n",
    "        #now we will iterate on my_sequence_recorded_iterable list, with seq_record elements\n",
    "        for seq_record in my_sequence_recorded_iterable:\n",
    "            #seq_record.description=' '.join(seq_record.description.split()[1:])  in here I edit the description\n",
    "            # as it originally contains the id.\n",
    "            # we now write each iterated sequence 'seq_record' in our output file f_out as fasta format.\n",
    "            SeqIO.write(seq_record, f_out, 'fasta')\n",
    "            #We now print to stdoout.\n",
    "            print('>' + seq_record.id)\n",
    "            print(translate(seq_record.seq))"
   ]
  },
  {
   "cell_type": "code",
   "execution_count": 32,
   "metadata": {
    "scrolled": false
   },
   "outputs": [
    {
     "data": {
      "text/plain": [
       "[SeqRecord(seq=Seq('TAA', SingleLetterAlphabet()), id='single_stop_codon', name='single_stop_codon', description='', dbxrefs=[]),\n",
       " SeqRecord(seq=Seq('TAATAGTGATAATAGTGATAATAGTGATAATAGTGATAATAGTGATAATAGTGA...TGA', SingleLetterAlphabet()), id='stopcodons', name='stopcodons', description='', dbxrefs=[]),\n",
       " SeqRecord(seq=Seq('NNNNNNNNNNNNNNNNNNNNNNNNNNNNNNNNNNNNNNNNNNNNNNNNNNNNNN', SingleLetterAlphabet()), id='ambiguities', name='ambiguities', description='This is a comment, just here to remind you that Fasta sequences have description strings.', dbxrefs=[]),\n",
       " SeqRecord(seq=Seq('GCTCGTAATGATTGTCAAGAAGGTCATATTTTAAAAATGTTTCCTTCTACTTGGTATGTT', SingleLetterAlphabet()), id='proteinalphabet', name='proteinalphabet', description=\"This silly DNA string should translate to 'ARNDCQEGHILKMFPSTWYV'\", dbxrefs=[]),\n",
       " SeqRecord(seq=Seq('GCTCGTAATGATTGTCAAGAAGGTCATATTTTAAAAATGTTTCCTTCTACTTGGTATGTT', SingleLetterAlphabet()), id='proteinalphabet2', name='proteinalphabet2', description='', dbxrefs=[]),\n",
       " SeqRecord(seq=Seq('gctcgtaatgattgtcaagaaggtcatattttaaaaatgtttccttctacttggtatgtt', SingleLetterAlphabet()), id='proteinalphabet3', name='proteinalphabet3', description='', dbxrefs=[]),\n",
       " SeqRecord(seq=Seq('A', SingleLetterAlphabet()), id='tooshort', name='tooshort', description='No open reading frame here!', dbxrefs=[]),\n",
       " SeqRecord(seq=Seq('TAACAGTAG', SingleLetterAlphabet()), id='short', name='short', description='The longest reading frame is two codons, \"NS\" or \"TV\"', dbxrefs=[])]"
      ]
     },
     "execution_count": 32,
     "metadata": {},
     "output_type": "execute_result"
    }
   ],
   "source": [
    "my_sequence_recorded_iterable"
   ]
  },
  {
   "cell_type": "code",
   "execution_count": null,
   "metadata": {},
   "outputs": [],
   "source": []
  }
 ],
 "metadata": {
  "kernelspec": {
   "display_name": "Python 3",
   "language": "python",
   "name": "python3"
  },
  "language_info": {
   "codemirror_mode": {
    "name": "ipython",
    "version": 3
   },
   "file_extension": ".py",
   "mimetype": "text/x-python",
   "name": "python",
   "nbconvert_exporter": "python",
   "pygments_lexer": "ipython3",
   "version": "3.6.6"
  }
 },
 "nbformat": 4,
 "nbformat_minor": 2
}
