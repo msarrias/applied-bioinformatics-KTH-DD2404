{
 "cells": [
  {
   "cell_type": "code",
   "execution_count": 1,
   "metadata": {},
   "outputs": [],
   "source": [
    "import urllib.request\n",
    "import os\n",
    "import gzip\n",
    "import shutil\n",
    "import glob"
   ]
  },
  {
   "cell_type": "code",
   "execution_count": 2,
   "metadata": {},
   "outputs": [],
   "source": [
    "def readGenome(filename):\n",
    "    \"\"\"\n",
    "    readGenome is a function that opens a Fasta format file available in the wd and reads the sequences on it.\n",
    "    :param filename: name of the file on the wd.\n",
    "    :return: a dictionary with genome name as key and the sequence as keyvalue.\n",
    "    \"\"\"\n",
    "    # dna_sequences_by_name_dict is a dictionary with keys: genome name, values: sequence.\n",
    "    dna_sequences_by_name_dict = dict()\n",
    "    # Opens the file listed in filenames.\n",
    "    with open(filename, 'r') as f:\n",
    "        # for each line on the file:\n",
    "        for line in f:\n",
    "            # removes the entry key.\n",
    "            line = line.strip()\n",
    "            # if the line starts with > the key value will be empty, while the key will take the value of the line.\n",
    "            if line[0] == '>':\n",
    "                genome = ''\n",
    "                sequence_name = line\n",
    "            # if the line do not starts with > the keyvalue will take the line value and will join all of the next strings until next >.\n",
    "            if line[0] != '>':\n",
    "                genome += line\n",
    "            dna_sequences_by_name_dict[sequence_name] = genome\n",
    "    # returns the dictionary with all the read sequences of the file.\n",
    "    return dna_sequences_by_name_dict"
   ]
  },
  {
   "cell_type": "code",
   "execution_count": 3,
   "metadata": {},
   "outputs": [],
   "source": [
    "genomes = [\n",
    "    'chlamydophila_pneumoniae', \n",
    "    'thermosynechococcus_elongatus', \n",
    "    'bacillus_subtilis', \n",
    "    'legionella_pneumophila', \n",
    "    'haemophilus_influenzae'\n",
    "]\n",
    "\n",
    "urls = ['ftp://ftp.ncbi.nlm.nih.gov/genomes/all/GCF/000/008/745/GCF_000008745.1_ASM874v1/GCF_000008745.1_ASM874v1_genomic.fna.gz',\n",
    "       'ftp://ftp.ncbi.nlm.nih.gov/genomes/all/GCF/000/011/345/GCF_000011345.1_ASM1134v1/GCF_000011345.1_ASM1134v1_genomic.fna.gz',\n",
    "       'ftp://ftp.ncbi.nlm.nih.gov/genomes/all/GCF/000/009/045/GCF_000009045.1_ASM904v1/GCF_000009045.1_ASM904v1_genomic.fna.gz',\n",
    "       'ftp://ftp.ncbi.nlm.nih.gov/genomes/all/GCF/000/008/485/GCF_000008485.1_ASM848v1/GCF_000008485.1_ASM848v1_genomic.fna.gz',\n",
    "       'ftp://ftp.ncbi.nlm.nih.gov/genomes/all/GCF/000/027/305/GCF_000027305.1_ASM2730v1/GCF_000027305.1_ASM2730v1_genomic.fna.gz']\n",
    "\n",
    "url_by_genome_name = dict(zip(genomes, urls))"
   ]
  },
  {
   "cell_type": "code",
   "execution_count": 10,
   "metadata": {},
   "outputs": [],
   "source": [
    "filenames = [\n",
    "    'bacillus_subtilis.fna',\n",
    "    'chlamydophila_pneumoniae.fna',\n",
    "    'Downloading_Genome.ipynb',\n",
    "    'haemophilus_influenzae.fna',\n",
    "    'legionella_pneumophila.fna',\n",
    "    'thermosynechococcus_elongatus.fna'\n",
    "]"
   ]
  },
  {
   "cell_type": "code",
   "execution_count": 4,
   "metadata": {},
   "outputs": [],
   "source": [
    "extensions = (\"*.fna\")\n",
    "filenames_wd = []\n",
    "for files in extensions:\n",
    "    filenames_wd.extend(glob.glob(files))                             ## Extend, appends to the list the file names on the directory.\n",
    "    #filenames = [f for f in filenames if f.endswith(\"*.fna\")] ## Only input filenames. "
   ]
  },
  {
   "cell_type": "code",
   "execution_count": 6,
   "metadata": {},
   "outputs": [],
   "source": [
    "filenames  =[]\n",
    "\n",
    "for idx, genome in enumerate(genomes):\n",
    "     # downloaded filename.\n",
    "    out_filename = genome +'.fna.gz'\n",
    "    # append all out_filenames in the filename list.\n",
    "    filenames.append(out_filename)\n",
    "    \n",
    "    url = urls[idx]\n",
    "    #urlretrieve, from the url in list urls, and name it with the out_filename.\n",
    "    urllib.request.urlretrieve(url, out_filename)\n",
    "        \n",
    "for files in filenames:\n",
    "    #read input file.\n",
    "    with gzip.open(files, 'rb') as f_in: \n",
    "        #define new name with extension .fna\n",
    "        files_out = files[:-3]\n",
    "        #write file.\n",
    "        with open(files_out, 'wb') as f_out:\n",
    "            #directory, file operation. copy from f_in to f_out\n",
    "            shutil.copyfileobj(f_in, f_out)\n",
    "    #Remove original .fna.gz file\n",
    "    os.remove(files)\n",
    "    \n"
   ]
  },
  {
   "cell_type": "code",
   "execution_count": null,
   "metadata": {},
   "outputs": [],
   "source": [
    "filenames = [\n",
    "    'bacillus_subtilis.fna',\n",
    "    'chlamydophila_pneumoniae.fna',\n",
    "    'Downloading_Genome.ipynb',\n",
    "    'haemophilus_influenzae.fna',\n",
    "    'legionella_pneumophila.fna',\n",
    "    'thermosynechococcus_elongatus.fna'\n",
    "]\n",
    "\n",
    "if __name__ == '__main__':\n",
    "    for filename in filenames:\n",
    "        try:\n",
    "            translate_seq = readGenome(filename)\n",
    "            print(filename)\n",
    "            for sequence_name, dna_sequence in translate_seq.items():\n",
    "                #print(sequence_name)\n",
    "                print(len(dna_sequence))\n",
    "                print(dna_sequence[:15])\n",
    "        except Exception as e:\n",
    "            print(filename)\n",
    "            print(e)"
   ]
  }
 ],
 "metadata": {
  "kernelspec": {
   "display_name": "Python 3",
   "language": "python",
   "name": "python3"
  },
  "language_info": {
   "codemirror_mode": {
    "name": "ipython",
    "version": 3
   },
   "file_extension": ".py",
   "mimetype": "text/x-python",
   "name": "python",
   "nbconvert_exporter": "python",
   "pygments_lexer": "ipython3",
   "version": "3.7.0"
  }
 },
 "nbformat": 4,
 "nbformat_minor": 2
}
