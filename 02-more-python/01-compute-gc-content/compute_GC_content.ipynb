{
 "cells": [
  {
   "cell_type": "markdown",
   "metadata": {},
   "source": [
    "### Lab:3 - 01.Compute GC Content"
   ]
  },
  {
   "cell_type": "markdown",
   "metadata": {},
   "source": [
    "## Instructions:\n",
    "\n",
    "Write a program gccontent for computing GC content for a genome.\n",
    "\n",
    "## Requirements\n",
    "Your program must read any number of files from the command line arguments, compute GC for file after file, and write them to standard out in order.\n",
    "All sequences (chromosomes and/or contigs) from a genome should be included in the analysis.\n",
    "You program must be structured so that:\n",
    "one function is in charge of reading a genome sequence,\n",
    "one function is computing the GC content of a sequence.\n",
    "\n"
   ]
  },
  {
   "cell_type": "code",
   "execution_count": 1,
   "metadata": {},
   "outputs": [],
   "source": [
    "def readGenome(filename):\n",
    "    \"\"\"\n",
    "    readGenome is a function that opens a Fasta format file available in the wd and reads the sequences on it.\n",
    "    :param filename: name of the file on the wd.\n",
    "    :return: a dictionary with genome name as key and the sequence as keyvalue.\n",
    "    \"\"\"\n",
    "    # dna_sequences_by_name_dict is a dictionary with keys: genome name, values: sequence.\n",
    "    dna_sequences_by_name_dict = dict()\n",
    "    # Opens the file listed in filenames.\n",
    "    with open(filename, 'r') as f:\n",
    "        # for each line on the file:\n",
    "        for line in f:\n",
    "            # removes the entry key.\n",
    "            line = line.strip()\n",
    "            # if the line starts with > the key value will be empty, while the key will take the value of the line.\n",
    "            if line[0] == '>':\n",
    "                genome = ''\n",
    "                sequence_name = line\n",
    "            # if the line do not starts with > the keyvalue will take the line value and will join all of the next strings until next >.\n",
    "            if line[0] != '>':\n",
    "                genome += line\n",
    "            dna_sequences_by_name_dict[sequence_name] = genome\n",
    "    # returns the dictionary with all the read sequences of the file.\n",
    "    return dna_sequences_by_name_dict"
   ]
  },
  {
   "cell_type": "code",
   "execution_count": 2,
   "metadata": {},
   "outputs": [],
   "source": [
    "def gc_content(dna_sequences_by_name_dict):\n",
    "    \"\"\"\n",
    "    gc_content is a function that computes the percentage of guanine and cytosine present on a sequence.\n",
    "    :param dna_sequences_by_name_dict: dictionary with sequence name as key and dna_sequence as keyvalue.\n",
    "    :return: float rounded on three decimals representing the percentage of G and C on the dna_sequence.\n",
    "    \"\"\"\n",
    "    # for key = sequence_name and keyvalue= dna_sequence as items of the dictionary dna_sequences_by_name_dict:\n",
    "    for sequence_name, dna_sequence in dna_sequences_by_name_dict.items():\n",
    "        GC_content_computation = float((dna_sequence.count('G') + dna_sequence.count('C'))) / len(dna_sequence) \n",
    "        print(round(float(GC_content_computation), 3))"
   ]
  },
  {
   "cell_type": "code",
   "execution_count": 3,
   "metadata": {},
   "outputs": [
    {
     "name": "stdout",
     "output_type": "stream",
     "text": [
      "0.406\n",
      "0.435\n"
     ]
    }
   ],
   "source": [
    "if __name__ == '__main__':\n",
    "    filenames = ['chlamydophila_pneumoniae.fna', 'bacillus_subtilis.fna']\n",
    "    for filename in filenames:\n",
    "        translate_seq = readGenome(filename)\n",
    "        gc_content(translate_seq)"
   ]
  },
  {
   "cell_type": "code",
   "execution_count": null,
   "metadata": {},
   "outputs": [],
   "source": []
  }
 ],
 "metadata": {
  "kernelspec": {
   "display_name": "Python 3",
   "language": "python",
   "name": "python3"
  },
  "language_info": {
   "codemirror_mode": {
    "name": "ipython",
    "version": 3
   },
   "file_extension": ".py",
   "mimetype": "text/x-python",
   "name": "python",
   "nbconvert_exporter": "python",
   "pygments_lexer": "ipython3",
   "version": "3.6.6"
  }
 },
 "nbformat": 4,
 "nbformat_minor": 2
}
