{
 "cells": [
  {
   "cell_type": "code",
   "execution_count": 2,
   "metadata": {},
   "outputs": [],
   "source": [
    "def readGenome(filename):\n",
    "    \"\"\"\n",
    "    readGenome is a function that opens a Fasta format file available in the wd and reads the sequences on it.\n",
    "    :param filename: name of the file on the wd.\n",
    "    :return: a dictionary with genome name as key and the sequence as keyvalue.\n",
    "    \"\"\"\n",
    "    # dna_sequences_by_name_dict is a dictionary with keys: genome name, values: sequence.\n",
    "    dna_sequences_by_name_dict = dict()\n",
    "    # Opens the file listed in filenames.\n",
    "    with open(filename, 'r') as f:\n",
    "        # for each line on the file:\n",
    "        for line in f:\n",
    "            # removes the entry key.\n",
    "            line = line.strip()\n",
    "            # if the line starts with > the key value will be empty, while the key will take the value of the line.\n",
    "            if line[0] == '>':\n",
    "                genome = ''\n",
    "                sequence_name = line\n",
    "            # if the line do not starts with > the keyvalue will take the line value and will join all of the next strings until next >.\n",
    "            if line[0] != '>':\n",
    "                genome += line\n",
    "            dna_sequences_by_name_dict[sequence_name] = genome\n",
    "    # returns the dictionary with all the read sequences of the file.\n",
    "    return dna_sequences_by_name_dict"
   ]
  },
  {
   "cell_type": "code",
   "execution_count": 15,
   "metadata": {},
   "outputs": [],
   "source": [
    "def gc(translate_seq):\n",
    "    for sequence_name, dna_sequence in translate_seq.items():\n",
    "        GC_content = float((dna_sequence.count('G') + dna_sequence.count('C'))) / len(dna_sequence) \n",
    "        print(GC_content)"
   ]
  },
  {
   "cell_type": "code",
   "execution_count": 20,
   "metadata": {},
   "outputs": [],
   "source": [
    "filenames = ['an_exon.fa', 'bacillus_subtilis.fna']"
   ]
  },
  {
   "cell_type": "code",
   "execution_count": null,
   "metadata": {},
   "outputs": [],
   "source": [
    "if __name__ == '__main__':\n",
    "    filenames = sys.argv[1:]\n",
    "    for filename in filenames:\n",
    "        translate_seq = readGenome(filename)\n",
    "        gc(translate_seq)"
   ]
  }
 ],
 "metadata": {
  "kernelspec": {
   "display_name": "Python 3",
   "language": "python",
   "name": "python3"
  },
  "language_info": {
   "codemirror_mode": {
    "name": "ipython",
    "version": 3
   },
   "file_extension": ".py",
   "mimetype": "text/x-python",
   "name": "python",
   "nbconvert_exporter": "python",
   "pygments_lexer": "ipython3",
   "version": "3.6.6"
  }
 },
 "nbformat": 4,
 "nbformat_minor": 2
}
