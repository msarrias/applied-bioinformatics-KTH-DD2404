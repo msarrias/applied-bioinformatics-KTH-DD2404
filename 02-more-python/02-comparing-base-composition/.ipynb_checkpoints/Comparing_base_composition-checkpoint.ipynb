{
 "cells": [
  {
   "cell_type": "code",
   "execution_count": 92,
   "metadata": {},
   "outputs": [],
   "source": [
    "import urllib.request\n",
    "import math\n",
    "import numpy\n",
    "import sys"
   ]
  },
  {
   "cell_type": "code",
   "execution_count": 32,
   "metadata": {},
   "outputs": [],
   "source": [
    "def dist(a_comp_vector, b_comp_vector):\n",
    "    d = [((a_comp_vector[0] - b_comp_vector[0])**2), ((a_comp_vector[1] - b_comp_vector[1])**2), \n",
    "         ((a_comp_vector[2] - b_comp_vector[2])**2)]\n",
    "    return round(math.sqrt(0.25*(d[0] + d[1] + d[2])), 2)"
   ]
  },
  {
   "cell_type": "code",
   "execution_count": 2,
   "metadata": {},
   "outputs": [],
   "source": [
    "def readGenome(filename):\n",
    "    \"\"\"\n",
    "    readGenome is a function that opens a Fasta format file available in the wd and reads the sequences on it.\n",
    "    :param filename: name of the file on the wd.\n",
    "    :return: a dictionary with genome name as key and the sequence as keyvalue.\n",
    "    \"\"\"\n",
    "    # dna_sequences_by_name_dict is a dictionary with keys: genome name, values: sequence.\n",
    "    dna_sequences_by_name_dict = dict()\n",
    "    # Opens the file listed in filenames.\n",
    "    with open(filename, 'r') as f:\n",
    "        # for each line on the file:\n",
    "        for line in f:\n",
    "            # removes the entry key.\n",
    "            line = line.strip()\n",
    "            # if the line starts with > the key value will be empty, while the key will take the value of the line.\n",
    "            if line[0] == '>':\n",
    "                genome = ''\n",
    "                sequence_name = line\n",
    "            # if the line do not starts with > the keyvalue will take the line value and will join all of the next strings until next >.\n",
    "            if line[0] != '>':\n",
    "                genome += line\n",
    "            dna_sequences_by_name_dict[sequence_name] = genome\n",
    "    # returns the dictionary with all the read sequences of the file.\n",
    "    return dna_sequences_by_name_dict"
   ]
  },
  {
   "cell_type": "code",
   "execution_count": 89,
   "metadata": {},
   "outputs": [],
   "source": [
    "#for sequence_name, dna_sequence in translate_seq.items():\n",
    "def composition_vector(dna_sequence):\n",
    "    \n",
    "    content_A = float(dna_sequence.count('A'))\n",
    "    content_C = dna_sequence.count('C')\n",
    "    content_G = dna_sequence.count('G')\n",
    "    content_T = dna_sequence.count('T')\n",
    "    length = float(content_A + content_C + content_G + content_T)\n",
    "    return (\n",
    "        round(float((content_A/length)), 2),\n",
    "        round(float(content_C/length), 2),\n",
    "        round(float(content_G/length), 2),\n",
    "        round(float(content_T/length), 2)\n",
    "    )"
   ]
  },
  {
   "cell_type": "code",
   "execution_count": 3,
   "metadata": {},
   "outputs": [],
   "source": [
    "urls =[\"http://www.csc.kth.se/utbildning/kth/kurser/DD2404/appbio12/labs/lab2/simple1.fa\",\n",
    "    \"http://www.csc.kth.se/utbildning/kth/kurser/DD2404/appbio12/labs/lab2/simple2.fa\",\n",
    "    \"http://www.csc.kth.se/utbildning/kth/kurser/DD2404/appbio12/labs/lab2/human.fa\",\n",
    "    \"http://www.csc.kth.se/utbildning/kth/kurser/DD2404/appbio12/labs/lab2/mouse.fa\",\n",
    "    \"http://www.csc.kth.se/utbildning/kth/kurser/DD2404/appbio12/labs/lab2/fly.fa\",\n",
    "    \"http://www.csc.kth.se/utbildning/kth/kurser/DD2404/appbio12/labs/lab2/yeast.fa\",\n",
    "    \"http://www.csc.kth.se/utbildning/kth/kurser/DD2404/appbio12/labs/lab2/ecoli.fa\",\n",
    "    \"http://www.csc.kth.se/utbildning/kth/kurser/DD2404/appbio12/labs/lab2/plasmodium.fa\",\n",
    "    \"http://www.csc.kth.se/utbildning/kth/kurser/DD2404/appbio12/labs/lab2/thermus.fa\"]\n",
    "filenames = []\n",
    "for gene in urls:\n",
    "    filenames.append(gene.split('lab2/')[1])\n",
    "\n",
    "url_by_genome_name = dict(zip(filenames, urls))"
   ]
  },
  {
   "cell_type": "code",
   "execution_count": 4,
   "metadata": {},
   "outputs": [],
   "source": [
    "# for key, keyvalue in the dictionary items.\n",
    "for filename, url in url_by_genome_name.items():\n",
    "    with urllib.request.urlopen(url) as url:\n",
    "        gene = url.read()\n",
    "        gene = gene.strip().decode(\"utf-8\")\n",
    "    with open(filename, 'w') as f_out:\n",
    "        f_out.write(gene)\n",
    "       "
   ]
  },
  {
   "cell_type": "code",
   "execution_count": 45,
   "metadata": {},
   "outputs": [],
   "source": [
    "# for filename in filenames:\n",
    "#     read_gene =readGenome('simple1.fa')\n",
    "#     read_gene2 = readGenome('simple2.fa')\n",
    "#filenames_list = ['simple1.fa', 'simple2.fa', 'human.fa', 'mouse.fa']"
   ]
  },
  {
   "cell_type": "code",
   "execution_count": 111,
   "metadata": {},
   "outputs": [],
   "source": [
    "dna_sequence_by_name = dict()\n",
    "for filename in filenames_list:\n",
    "    translate_seq = readGenome(filename)\n",
    "    dna_sequence_by_name = {**dna_sequence_by_name, **translate_seq}\n",
    "composition_dna_sequence_by_name = {\n",
    "    sequ_name[:10]: composition_vector(dna_sequence) for sequ_name, dna_sequence in dna_sequence_by_name.items()\n",
    "}"
   ]
  },
  {
   "cell_type": "code",
   "execution_count": 112,
   "metadata": {},
   "outputs": [
    {
     "data": {
      "text/plain": [
       "{'>simple1': (0.25, 0.25, 0.25, 0.25),\n",
       " '>simple2': (0.3, 0.2, 0.2, 0.3),\n",
       " '>Hsapiens ': (0.28, 0.23, 0.21, 0.28),\n",
       " '>Mus_muscu': (0.28, 0.22, 0.22, 0.28)}"
      ]
     },
     "execution_count": 112,
     "metadata": {},
     "output_type": "execute_result"
    }
   ],
   "source": [
    "composition_dna_sequence_by_name"
   ]
  },
  {
   "cell_type": "code",
   "execution_count": 119,
   "metadata": {},
   "outputs": [
    {
     "name": "stdout",
     "output_type": "stream",
     "text": [
      ">simple1 [0.   0.04 0.03 0.03]\n",
      ">simple2 [0.04 0.   0.02 0.02]\n",
      ">Hsapiens  [0.03 0.02 0.   0.01]\n",
      ">Mus_muscu [0.03 0.02 0.01 0.  ]\n"
     ]
    }
   ],
   "source": [
    "my_little_matrix = numpy.zeros((len(composition_dna_sequence_by_name), len(composition_dna_sequence_by_name)))\n",
    "for index, sequence_vector_a in enumerate(composition_dna_sequence_by_name.values()):\n",
    "    for index_2, sequence_vector_b in enumerate(composition_dna_sequence_by_name.values()):\n",
    "        my_little_matrix[index,index_2] = dist(sequence_vector_a,sequence_vector_b)\n",
    "for index, sequence_name in enumerate(composition_dna_sequence_by_name.keys()):\n",
    "    print(sequence_name, my_little_matrix[index])\n",
    "        \n",
    "\n",
    "    "
   ]
  },
  {
   "cell_type": "code",
   "execution_count": 44,
   "metadata": {},
   "outputs": [
    {
     "name": "stdout",
     "output_type": "stream",
     "text": [
      "[]\n"
     ]
    }
   ],
   "source": [
    "if __name__ == '__main__':\n",
    "    # filenames_list = list of entered arguments from command line.\n",
    "    filenames_list = sys.argv[1:]\n",
    "    dna_sequence_by_name = dict()\n",
    "    for filename in filenames_list:\n",
    "        translate_seq = readGenome(filename)\n",
    "        dna_sequence_by_name = {**dna_sequence_by_name, **translate_seq}\n",
    "    composition_dna_sequence_by_name = {\n",
    "        sequ_name[:10]: composition_vector(dna_sequence) for sequ_name, dna_sequence in dna_sequence_by_name.items()\n",
    "    }\n",
    "    "
   ]
  },
  {
   "cell_type": "code",
   "execution_count": 118,
   "metadata": {},
   "outputs": [
    {
     "data": {
      "text/plain": [
       "array([[0.  , 0.04, 0.03, 0.03],\n",
       "       [0.04, 0.  , 0.02, 0.02],\n",
       "       [0.03, 0.02, 0.  , 0.01],\n",
       "       [0.03, 0.02, 0.01, 0.  ]])"
      ]
     },
     "execution_count": 118,
     "metadata": {},
     "output_type": "execute_result"
    }
   ],
   "source": [
    "my_little_matrix"
   ]
  },
  {
   "cell_type": "code",
   "execution_count": 64,
   "metadata": {
    "scrolled": true
   },
   "outputs": [
    {
     "data": {
      "text/plain": [
       "{'my_little_baby_0': 0, 'my_little_baby_1': 1, 'my_little_baby_2': 4}"
      ]
     },
     "execution_count": 64,
     "metadata": {},
     "output_type": "execute_result"
    }
   ],
   "source": [
    "new_dna_sequence_by_name = {seq_name: value**2 for seq_name, value in dna_sequence_by_name.items()}\n",
    "new_dna_sequence_by_name"
   ]
  },
  {
   "cell_type": "code",
   "execution_count": 61,
   "metadata": {},
   "outputs": [
    {
     "data": {
      "text/plain": [
       "{'my_little_baby_0': 0, 'my_little_baby_1': 1, 'my_little_baby_2': 2}"
      ]
     },
     "execution_count": 61,
     "metadata": {},
     "output_type": "execute_result"
    }
   ],
   "source": [
    "dna_sequence_by_name"
   ]
  },
  {
   "cell_type": "code",
   "execution_count": 85,
   "metadata": {},
   "outputs": [
    {
     "data": {
      "text/plain": [
       "'ACGTACGTACGTACGTACGTACGTACGTACGTNNNNNNNNNNNNNNNNACGTACGTACGTACGTACGTACGTACGTACGTACGTACGTACGTACGTACGTACGTACGTACGT'"
      ]
     },
     "execution_count": 85,
     "metadata": {},
     "output_type": "execute_result"
    }
   ],
   "source": [
    "read_gene['>simple1']"
   ]
  },
  {
   "cell_type": "code",
   "execution_count": 90,
   "metadata": {},
   "outputs": [
    {
     "data": {
      "text/plain": [
       "(0.25, 0.25, 0.25, 0.25)"
      ]
     },
     "execution_count": 90,
     "metadata": {},
     "output_type": "execute_result"
    }
   ],
   "source": [
    "composition_vector(read_gene['>simple1'])"
   ]
  },
  {
   "cell_type": "code",
   "execution_count": 120,
   "metadata": {},
   "outputs": [
    {
     "name": "stdout",
     "output_type": "stream",
     "text": [
      "check our dna sequence dict before adding new one\n",
      "{}\n",
      "check our dna sequence dict after adding new one\n",
      "{'my_little_baby_0': 0}\n",
      " \n",
      "check our dna sequence dict before adding new one\n",
      "{'my_little_baby_0': 0}\n",
      "check our dna sequence dict after adding new one\n",
      "{'my_little_baby_1': 1, 'my_little_baby_0': 0}\n",
      " \n",
      "check our dna sequence dict before adding new one\n",
      "{'my_little_baby_1': 1, 'my_little_baby_0': 0}\n",
      "check our dna sequence dict after adding new one\n",
      "{'my_little_baby_2': 2, 'my_little_baby_1': 1, 'my_little_baby_0': 0}\n",
      " \n"
     ]
    }
   ],
   "source": [
    "dna_sequence_by_name = dict()\n",
    "for i in range(3):\n",
    "    print('check our dna sequence dict before adding new one')\n",
    "    print(dna_sequence_by_name)\n",
    "    \n",
    "    new_dict = {f'my_little_baby_{i}': i}\n",
    "    dna_sequence_by_name = {**new_dict,**dna_sequence_by_name }\n",
    "    \n",
    "    print('check our dna sequence dict after adding new one')\n",
    "    print(dna_sequence_by_name)\n",
    "    print(' ')"
   ]
  },
  {
   "cell_type": "code",
   "execution_count": null,
   "metadata": {},
   "outputs": [],
   "source": []
  }
 ],
 "metadata": {
  "kernelspec": {
   "display_name": "Python 3",
   "language": "python",
   "name": "python3"
  },
  "language_info": {
   "codemirror_mode": {
    "name": "ipython",
    "version": 3
   },
   "file_extension": ".py",
   "mimetype": "text/x-python",
   "name": "python",
   "nbconvert_exporter": "python",
   "pygments_lexer": "ipython3",
   "version": "3.6.6"
  }
 },
 "nbformat": 4,
 "nbformat_minor": 2
}
