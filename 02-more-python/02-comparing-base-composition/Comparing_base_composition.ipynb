{
 "cells": [
  {
   "cell_type": "markdown",
   "metadata": {},
   "source": [
    "### Lab:3 - 02.Comparing base composition"
   ]
  },
  {
   "cell_type": "markdown",
   "metadata": {},
   "source": [
    "### Programming: Composition-based distances\n",
    "Computing phylogenies for species based on whole genomes is hard for several reasons. Do you work with genes only? How do you then pick the genes? You cannot, in general, align whole genomes because of recombination events that cause large scale differences.\n",
    "\n",
    "One solution that has been tried is comparing the difference in nucleotide composition. Let πX be the nucleotide composition vector for species X. If all nucleotides have the same frequence in X (which would be surprising), then πX=(0.25, 0.25, 0.25, 0.25).\n",
    "\n",
    "If genome Y we are looking at is GC rich, then the composition vector might be πY = (0.2, 0.3, 0.3, 0.2), assuming that the nucleotide frequencies are in the order A, C, G, and T.\n",
    "\n",
    " \n",
    "\n",
    "### Measuring difference in composition\n",
    "To be able to use composition for distances, we want to have a measure for the difference. In this assignment, we use the root-mean-square distance:\n",
    "\n",
    "Take the elementwise differences.\n",
    "Square the differences and add them up.\n",
    "Divide the sum by 4 and take the square root.\n",
    "diff(πX,πY) = √ (0.25 * ((0.25-0.2)2 + (0.25-0.3)2 + (0.25-0.3)2 + (0.25-0.2)2))\n",
    "\n",
    "### Assignment\n",
    "Write a Python program that takes as input a number of filenames, each pointing to files containing one genomic sequence in Fasta format, and output a distance matrix using the composition difference above.\n",
    "\n",
    "Suggested solution structure\n",
    "Define a function dist that takes two composition vectors as arguments and returns a difference."
   ]
  },
  {
   "cell_type": "code",
   "execution_count": 1,
   "metadata": {},
   "outputs": [],
   "source": [
    "import urllib.request\n",
    "import math\n",
    "import numpy\n",
    "import sys"
   ]
  },
  {
   "cell_type": "code",
   "execution_count": 2,
   "metadata": {},
   "outputs": [],
   "source": [
    "def readGenome(filename):\n",
    "    \"\"\"\n",
    "    readGenome is a function that opens a Fasta format file available in the wd and reads the sequences on it.\n",
    "    :param filename: name of the file on the wd.\n",
    "    :return: a dictionary with genome name as key and the sequence as keyvalue.\n",
    "    \"\"\"\n",
    "    # dna_sequences_by_name_dict is a dictionary with keys: genome name, values: sequence.\n",
    "    dna_sequences_by_name_dict = dict()\n",
    "    # Opens the file listed in filenames.\n",
    "    with open(filename, 'r') as f:\n",
    "        # for each line on the file:\n",
    "        for line in f:\n",
    "            # removes the entry key.\n",
    "            line = line.strip()\n",
    "            # if the line starts with > the key value will be empty, while the key will take the value of the line.\n",
    "            if line[0] == '>':\n",
    "                genome = ''\n",
    "                sequence_name = line\n",
    "            # if the line do not starts with > the keyvalue will take the line value and will join all of the next strings until next >.\n",
    "            if line[0] != '>':\n",
    "                genome += line\n",
    "            dna_sequences_by_name_dict[sequence_name] = genome\n",
    "    # returns the dictionary with all the read sequences of the file.\n",
    "    return dna_sequences_by_name_dict"
   ]
  },
  {
   "cell_type": "code",
   "execution_count": 3,
   "metadata": {},
   "outputs": [],
   "source": [
    "#for sequence_name, dna_sequence in translate_seq.items():\n",
    "def composition_vector(dna_sequence):\n",
    "    \"\"\"\n",
    "    composition_vector is a function that weights the nucleotides (A,C,G,T) frequencies on the dna_sequence.\n",
    "    :param dna_sequence: DNA sequence \n",
    "    :return: vector with three elements as percentages of the composition weight (A,C,G,T).\n",
    "    \"\"\"\n",
    "    content_A = dna_sequence.count('A')\n",
    "    content_C = dna_sequence.count('C')\n",
    "    content_G = dna_sequence.count('G')\n",
    "    content_T = dna_sequence.count('T')\n",
    "    length = float(content_A + content_C + content_G + content_T)\n",
    "    length_other_nucleotides = len(dna_sequence) - length\n",
    "    \n",
    "    if length_other_nucleotides != 0:\n",
    "        percentage_other_nucleotides= round(float(length_other_nucleotides/len(dna_sequence)),4)\n",
    "        \n",
    "        print(\n",
    "            f'WARNING: The genome sequence contains {percentage_other_nucleotides * 100} %'\n",
    "            ' of nucleotides other than A,C,G,T ',\n",
    "            file=sys.stderr\n",
    "        )\n",
    "    return (\n",
    "        round(float(content_A / length), 4),\n",
    "        round(float(content_C / length), 4),\n",
    "        round(float(content_G / length), 4),\n",
    "        round(float(content_T / length), 4)\n",
    "    )"
   ]
  },
  {
   "cell_type": "code",
   "execution_count": 4,
   "metadata": {},
   "outputs": [],
   "source": [
    "def distance(a_comp_vector, b_comp_vector):\n",
    "    \"\"\"\n",
    "    distance is a function that measueres the distance of two vectors, using the root-mean-square distance.\n",
    "    :param a_comp_vector: compasition vector for a given genome a.\n",
    "    :param b_comp_vector: compasition vector for a given genome b.\n",
    "    :return: single value with the two vectors distance.\n",
    "    \"\"\"\n",
    "    d = [\n",
    "        ((a_comp_vector[0] - b_comp_vector[0])**2), ((a_comp_vector[1] - b_comp_vector[1])**2), \n",
    "         ((a_comp_vector[2] - b_comp_vector[2])**2)\n",
    "        ]\n",
    "    \n",
    "    return round(math.sqrt(0.25*(d[0] + d[1] + d[2])), 4)"
   ]
  },
  {
   "cell_type": "code",
   "execution_count": 5,
   "metadata": {},
   "outputs": [],
   "source": [
    "def format_to_ten_characters(sequence_name):\n",
    "    \"\"\"\n",
    "    format_to_ten_characters is a function that limits the sequence_name length to 10.\n",
    "    :param sequence_name: \n",
    "    :return: sequence_name limited to 10 characters.\n",
    "    \n",
    "    \"\"\"\n",
    "    # if the sequence length is greater than 10 take just the first 10 characters and add 4 spaces this to create \n",
    "    # more distance on the matrix.\n",
    "    if len(sequence_name) > 10:\n",
    "        return sequence_name[:10] + '  '\n",
    "    # if it's less than ten add blank spaces for the remaining, plus 4 more spaces.\n",
    "    return sequence_name + ' ' * (10 - len(sequence_name)) + '  '\n"
   ]
  },
  {
   "cell_type": "code",
   "execution_count": 6,
   "metadata": {},
   "outputs": [],
   "source": [
    "def checking_for_errors_in_filename(filenames_list):\n",
    "    \"\"\"\n",
    "    checking_for_errors_in_filename is a function that evaluates two scenarios in which the file reading could go wrong.\n",
    "    :param filenames_list: is a list containing filenames passed as arguments from the command line.\n",
    "    :return:\n",
    "    \"\"\"\n",
    "\n",
    "    for filename in filenames_list:\n",
    "        try:\n",
    "            with open(filename, 'r') as my_file:\n",
    "                pass\n",
    "        except Exception as e:\n",
    "            return True, e\n",
    "        # if the filename extension is not 'fa' raise an error message.\n",
    "        if filename[-3:] != '.fa':\n",
    "            return True, 'only fasta format accepted'\n",
    "\n",
    "    return False, ''"
   ]
  },
  {
   "cell_type": "code",
   "execution_count": 24,
   "metadata": {},
   "outputs": [],
   "source": [
    "def convert_matrix_row(matrix_row):\n",
    "    \"\"\"\n",
    "    matrix_row is a function that edits the matrix rows so no brackets are written on the output file\n",
    "    :param matrix_row:\n",
    "    :return:\n",
    "    \"\"\"\n",
    "    matrix_str_row = '_'\n",
    "    for value in matrix_row:\n",
    "        matrix_str_row += f'{value}'+ ' '\n",
    "    return matrix_str_row[:-1] + '\\n'"
   ]
  },
  {
   "cell_type": "code",
   "execution_count": 26,
   "metadata": {},
   "outputs": [
    {
     "data": {
      "text/plain": [
       "'['"
      ]
     },
     "execution_count": 26,
     "metadata": {},
     "output_type": "execute_result"
    }
   ],
   "source": [
    "convert_matrix_row(my_little_matrix)"
   ]
  },
  {
   "cell_type": "code",
   "execution_count": 13,
   "metadata": {},
   "outputs": [],
   "source": [
    "## Download and write files: each file contains parts of the chromosomes/genomes for each species.\n",
    "\n",
    "urls =[\"http://www.csc.kth.se/utbildning/kth/kurser/DD2404/appbio12/labs/lab2/simple1.fa\",\n",
    "    \"http://www.csc.kth.se/utbildning/kth/kurser/DD2404/appbio12/labs/lab2/simple2.fa\",\n",
    "    \"http://www.csc.kth.se/utbildning/kth/kurser/DD2404/appbio12/labs/lab2/human.fa\",\n",
    "    \"http://www.csc.kth.se/utbildning/kth/kurser/DD2404/appbio12/labs/lab2/mouse.fa\",\n",
    "    \"http://www.csc.kth.se/utbildning/kth/kurser/DD2404/appbio12/labs/lab2/fly.fa\",\n",
    "    \"http://www.csc.kth.se/utbildning/kth/kurser/DD2404/appbio12/labs/lab2/yeast.fa\",\n",
    "    \"http://www.csc.kth.se/utbildning/kth/kurser/DD2404/appbio12/labs/lab2/ecoli.fa\",\n",
    "    \"http://www.csc.kth.se/utbildning/kth/kurser/DD2404/appbio12/labs/lab2/plasmodium.fa\",\n",
    "    \"http://www.csc.kth.se/utbildning/kth/kurser/DD2404/appbio12/labs/lab2/thermus.fa\"]\n",
    "\n",
    "filenames = []\n",
    "for gene in urls:\n",
    "    filenames.append(gene.split('lab2/')[1])\n",
    "##\n",
    "url_by_genome_name = dict(zip(filenames, urls))"
   ]
  },
  {
   "cell_type": "code",
   "execution_count": 27,
   "metadata": {},
   "outputs": [
    {
     "data": {
      "text/plain": [
       "{'simple1.fa': 'http://www.csc.kth.se/utbildning/kth/kurser/DD2404/appbio12/labs/lab2/simple1.fa',\n",
       " 'simple2.fa': 'http://www.csc.kth.se/utbildning/kth/kurser/DD2404/appbio12/labs/lab2/simple2.fa',\n",
       " 'human.fa': 'http://www.csc.kth.se/utbildning/kth/kurser/DD2404/appbio12/labs/lab2/human.fa',\n",
       " 'mouse.fa': 'http://www.csc.kth.se/utbildning/kth/kurser/DD2404/appbio12/labs/lab2/mouse.fa',\n",
       " 'fly.fa': 'http://www.csc.kth.se/utbildning/kth/kurser/DD2404/appbio12/labs/lab2/fly.fa',\n",
       " 'yeast.fa': 'http://www.csc.kth.se/utbildning/kth/kurser/DD2404/appbio12/labs/lab2/yeast.fa',\n",
       " 'ecoli.fa': 'http://www.csc.kth.se/utbildning/kth/kurser/DD2404/appbio12/labs/lab2/ecoli.fa',\n",
       " 'plasmodium.fa': 'http://www.csc.kth.se/utbildning/kth/kurser/DD2404/appbio12/labs/lab2/plasmodium.fa',\n",
       " 'thermus.fa': 'http://www.csc.kth.se/utbildning/kth/kurser/DD2404/appbio12/labs/lab2/thermus.fa'}"
      ]
     },
     "execution_count": 27,
     "metadata": {},
     "output_type": "execute_result"
    }
   ],
   "source": [
    "url_by_genome_name"
   ]
  },
  {
   "cell_type": "code",
   "execution_count": 14,
   "metadata": {},
   "outputs": [],
   "source": [
    "# for key, keyvalue in the dictionary items.\n",
    "for filename, url in url_by_genome_name.items():\n",
    "    with urllib.request.urlopen(url) as url:\n",
    "        gene = url.read()\n",
    "        gene = gene.strip().decode(\"utf-8\")\n",
    "    with open(filename, 'w') as f_out:\n",
    "        f_out.write(gene)\n",
    "       "
   ]
  },
  {
   "cell_type": "code",
   "execution_count": 16,
   "metadata": {},
   "outputs": [],
   "source": [
    " for filename in filenames:\n",
    "     read_gene =readGenome('simple1.fa')\n",
    "     read_gene2 = readGenome('simple2.fa')\n",
    "filenames_list = ['simple1.fa', 'simple2.fa', 'human.fa', 'mouse.fa']"
   ]
  },
  {
   "cell_type": "code",
   "execution_count": 17,
   "metadata": {},
   "outputs": [
    {
     "name": "stderr",
     "output_type": "stream",
     "text": [
      "WARNING: The genome sequence contains 14.29 % of nucleotides other than A,C,G,T \n"
     ]
    }
   ],
   "source": [
    "dna_sequence_by_name = dict()\n",
    "for filename in filenames_list:\n",
    "    translate_seq = readGenome(filename)\n",
    "    dna_sequence_by_name = {**dna_sequence_by_name, **translate_seq}\n",
    "composition_dna_sequence_by_name = {\n",
    "    sequ_name[:10]: composition_vector(dna_sequence) for sequ_name, dna_sequence in dna_sequence_by_name.items()\n",
    "}"
   ]
  },
  {
   "cell_type": "code",
   "execution_count": 18,
   "metadata": {},
   "outputs": [
    {
     "data": {
      "text/plain": [
       "{'>simple1': (0.25, 0.25, 0.25, 0.25),\n",
       " '>simple2': (0.3, 0.2, 0.2, 0.3),\n",
       " '>Hsapiens ': (0.2823, 0.2286, 0.2094, 0.2797),\n",
       " '>Mus_muscu': (0.284, 0.2172, 0.2225, 0.2763)}"
      ]
     },
     "execution_count": 18,
     "metadata": {},
     "output_type": "execute_result"
    }
   ],
   "source": [
    "composition_dna_sequence_by_name"
   ]
  },
  {
   "cell_type": "code",
   "execution_count": 19,
   "metadata": {},
   "outputs": [
    {
     "name": "stdout",
     "output_type": "stream",
     "text": [
      ">simple1 [0.     0.0433 0.0281 0.0273]\n",
      ">simple2 [0.0433 0.     0.0175 0.0163]\n",
      ">Hsapiens  [0.0281 0.0175 0.     0.0087]\n",
      ">Mus_muscu [0.0273 0.0163 0.0087 0.    ]\n"
     ]
    }
   ],
   "source": [
    "my_little_matrix = numpy.zeros((len(composition_dna_sequence_by_name), len(composition_dna_sequence_by_name)))\n",
    "for index, sequence_vector_a in enumerate(composition_dna_sequence_by_name.values()):\n",
    "    for index_2, sequence_vector_b in enumerate(composition_dna_sequence_by_name.values()):\n",
    "        my_little_matrix[index,index_2] = distance(sequence_vector_a,sequence_vector_b)\n",
    "for index, sequence_name in enumerate(composition_dna_sequence_by_name.keys()):\n",
    "    print(sequence_name, my_little_matrix[index])\n",
    "        \n",
    "\n",
    "    "
   ]
  },
  {
   "cell_type": "code",
   "execution_count": 44,
   "metadata": {},
   "outputs": [
    {
     "name": "stdout",
     "output_type": "stream",
     "text": [
      "[]\n"
     ]
    }
   ],
   "source": [
    "if __name__ == '__main__':\n",
    "    # filenames_list = list of entered arguments from command line.\n",
    "    filenames_list = sys.argv[1:]\n",
    "    dna_sequence_by_name = dict()\n",
    "    for filename in filenames_list:\n",
    "        translate_seq = readGenome(filename)\n",
    "        dna_sequence_by_name = {**dna_sequence_by_name, **translate_seq}\n",
    "    composition_dna_sequence_by_name = {\n",
    "        sequ_name[:10]: composition_vector(dna_sequence) for sequ_name, dna_sequence in dna_sequence_by_name.items()\n",
    "    }\n",
    "    "
   ]
  },
  {
   "cell_type": "code",
   "execution_count": 21,
   "metadata": {},
   "outputs": [
    {
     "data": {
      "text/plain": [
       "array([[0.    , 0.0433, 0.0281, 0.0273],\n",
       "       [0.0433, 0.    , 0.0175, 0.0163],\n",
       "       [0.0281, 0.0175, 0.    , 0.0087],\n",
       "       [0.0273, 0.0163, 0.0087, 0.    ]])"
      ]
     },
     "execution_count": 21,
     "metadata": {},
     "output_type": "execute_result"
    }
   ],
   "source": [
    "my_little_matrix"
   ]
  },
  {
   "cell_type": "code",
   "execution_count": 64,
   "metadata": {
    "scrolled": true
   },
   "outputs": [
    {
     "data": {
      "text/plain": [
       "{'my_little_baby_0': 0, 'my_little_baby_1': 1, 'my_little_baby_2': 4}"
      ]
     },
     "execution_count": 64,
     "metadata": {},
     "output_type": "execute_result"
    }
   ],
   "source": [
    "new_dna_sequence_by_name = {seq_name: value**2 for seq_name, value in dna_sequence_by_name.items()}\n",
    "new_dna_sequence_by_name"
   ]
  },
  {
   "cell_type": "code",
   "execution_count": 61,
   "metadata": {},
   "outputs": [
    {
     "data": {
      "text/plain": [
       "{'my_little_baby_0': 0, 'my_little_baby_1': 1, 'my_little_baby_2': 2}"
      ]
     },
     "execution_count": 61,
     "metadata": {},
     "output_type": "execute_result"
    }
   ],
   "source": [
    "dna_sequence_by_name"
   ]
  },
  {
   "cell_type": "code",
   "execution_count": 85,
   "metadata": {},
   "outputs": [
    {
     "data": {
      "text/plain": [
       "'ACGTACGTACGTACGTACGTACGTACGTACGTNNNNNNNNNNNNNNNNACGTACGTACGTACGTACGTACGTACGTACGTACGTACGTACGTACGTACGTACGTACGTACGT'"
      ]
     },
     "execution_count": 85,
     "metadata": {},
     "output_type": "execute_result"
    }
   ],
   "source": [
    "read_gene['>simple1']"
   ]
  },
  {
   "cell_type": "code",
   "execution_count": 90,
   "metadata": {},
   "outputs": [
    {
     "data": {
      "text/plain": [
       "(0.25, 0.25, 0.25, 0.25)"
      ]
     },
     "execution_count": 90,
     "metadata": {},
     "output_type": "execute_result"
    }
   ],
   "source": [
    "composition_vector(read_gene['>simple1'])"
   ]
  },
  {
   "cell_type": "code",
   "execution_count": 120,
   "metadata": {},
   "outputs": [
    {
     "name": "stdout",
     "output_type": "stream",
     "text": [
      "check our dna sequence dict before adding new one\n",
      "{}\n",
      "check our dna sequence dict after adding new one\n",
      "{'my_little_baby_0': 0}\n",
      " \n",
      "check our dna sequence dict before adding new one\n",
      "{'my_little_baby_0': 0}\n",
      "check our dna sequence dict after adding new one\n",
      "{'my_little_baby_1': 1, 'my_little_baby_0': 0}\n",
      " \n",
      "check our dna sequence dict before adding new one\n",
      "{'my_little_baby_1': 1, 'my_little_baby_0': 0}\n",
      "check our dna sequence dict after adding new one\n",
      "{'my_little_baby_2': 2, 'my_little_baby_1': 1, 'my_little_baby_0': 0}\n",
      " \n"
     ]
    }
   ],
   "source": [
    "dna_sequence_by_name = dict()\n",
    "for i in range(3):\n",
    "    print('check our dna sequence dict before adding new one')\n",
    "    print(dna_sequence_by_name)\n",
    "    \n",
    "    new_dict = {f'my_little_baby_{i}': i}\n",
    "    dna_sequence_by_name = {**new_dict,**dna_sequence_by_name }\n",
    "    \n",
    "    print('check our dna sequence dict after adding new one')\n",
    "    print(dna_sequence_by_name)\n",
    "    print(' ')"
   ]
  },
  {
   "cell_type": "code",
   "execution_count": null,
   "metadata": {},
   "outputs": [],
   "source": []
  }
 ],
 "metadata": {
  "kernelspec": {
   "display_name": "Python 3",
   "language": "python",
   "name": "python3"
  },
  "language_info": {
   "codemirror_mode": {
    "name": "ipython",
    "version": 3
   },
   "file_extension": ".py",
   "mimetype": "text/x-python",
   "name": "python",
   "nbconvert_exporter": "python",
   "pygments_lexer": "ipython3",
   "version": "3.6.6"
  }
 },
 "nbformat": 4,
 "nbformat_minor": 2
}
