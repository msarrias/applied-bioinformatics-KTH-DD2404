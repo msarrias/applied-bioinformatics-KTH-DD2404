{
 "cells": [
  {
   "cell_type": "code",
   "execution_count": null,
   "metadata": {},
   "outputs": [],
   "source": [
    "##Reading Sequences"
   ]
  },
  {
   "cell_type": "code",
   "execution_count": 1,
   "metadata": {},
   "outputs": [],
   "source": [
    "#import glob\n",
    "import sys"
   ]
  },
  {
   "cell_type": "code",
   "execution_count": 13,
   "metadata": {},
   "outputs": [],
   "source": [
    "#GENCODE dictionary, from DNA nucleotides codons to aminoacids.\n",
    "##Read it from a file.\n",
    "GENCODE  = {\n",
    "    'ATA': 'I', 'ATC': 'I', 'ATT': 'I', 'ATG': 'M',\n",
    "    'ACA': 'T', 'ACC': 'T', 'ACG': 'T', 'ACT': 'T',\n",
    "    'AAC': 'N', 'AAT': 'N', 'AAA': 'K', 'AAG': 'K',\n",
    "    'AGC': 'S', 'AGT': 'S', 'AGA': 'R', 'AGG': 'R',\n",
    "    'CTA': 'L', 'CTC': 'L', 'CTG': 'L', 'CTT': 'L',\n",
    "    'CCA': 'P', 'CCC': 'P', 'CCG': 'P', 'CCT': 'P',\n",
    "    'CAC': 'H', 'CAT': 'H', 'CAA': 'Q', 'CAG': 'Q',\n",
    "    'CGA': 'R', 'CGC': 'R', 'CGG': 'R', 'CGT': 'R',\n",
    "    'GTA': 'V', 'GTC': 'V', 'GTG': 'V', 'GTT': 'V',\n",
    "    'GCA': 'A', 'GCC': 'A', 'GCG': 'A', 'GCT': 'A',\n",
    "    'GAC': 'D', 'GAT': 'D', 'GAA': 'E', 'GAG': 'E',\n",
    "    'GGA': 'G', 'GGC': 'G', 'GGG': 'G', 'GGT': 'G',\n",
    "    'TCA': 'S', 'TCC': 'S', 'TCG': 'S', 'TCT': 'S',\n",
    "    'TTC': 'F', 'TTT': 'F', 'TTA': 'L', 'TTG': 'L',\n",
    "    'TAC': 'Y', 'TAT': 'Y', 'TAA': '_', 'TAG': '_',\n",
    "    'TGC': 'C', 'TGT': 'C', 'TGA': '_', 'TGG': 'W',\n",
    "}"
   ]
  },
  {
   "cell_type": "code",
   "execution_count": 2,
   "metadata": {},
   "outputs": [],
   "source": [
    "def readGenome(filename):\n",
    "    \"\"\"\n",
    "    readGenome is a function that opens a Fasta format file available in the wd and reads the sequences on it.\n",
    "    :param filename: name of the file on the wd.\n",
    "    :return: a dictionary with genome name as key and the sequence as keyvalue.\n",
    "    \"\"\"\n",
    "    # dna_sequences_by_name_dict is a dictionary with keys: genome name, values: sequence.\n",
    "    dna_sequences_by_name_dict = dict()\n",
    "    # Opens the file listed in filenames.\n",
    "    with open(filename, 'r') as f:\n",
    "        # for each line on the file:\n",
    "        for line in f:\n",
    "            # removes the entry key.\n",
    "            line = line.strip()\n",
    "            # if the line starts with > the key value will be empty, while the key will take the value of the line.\n",
    "            if line[0] == '>':\n",
    "                genome = ''\n",
    "                sequence_name = line\n",
    "            # if the line do not starts with > the keyvalue will take the line value and will join all of the next strings until next >.\n",
    "            if line[0] != '>':\n",
    "                genome += line\n",
    "            dna_sequences_by_name_dict[sequence_name] = genome\n",
    "    # returns the dictionary with all the read sequences of the file.\n",
    "    return dna_sequences_by_name_dict"
   ]
  },
  {
   "cell_type": "code",
   "execution_count": 17,
   "metadata": {},
   "outputs": [],
   "source": [
    "def decode_dna(dna_sequence_):\n",
    "    \"\"\"\n",
    "    decode_dna is a function that translates a DNA sequence into aminoacids, starting from the first nucleotide.\n",
    "    :param dna_sequence: keyvalue of the dna_sequences_by_name_dict dictionary, created on the readGenome function.\n",
    "    :return: the translated DNA sequence into proteins.\n",
    "    Example: dna_seq = (ATGGGTTGG); for i in range(0, len(dna_seq),3); print(dna_seq[i]); A G T...\n",
    "    \"\"\"\n",
    "    #start with an empty string, this will me the output.\n",
    "    \n",
    "    def compute_protein_translation(dna_sequence):\n",
    "        protein = ''\n",
    "        # verify if the sequence is multiple of 3\n",
    "        sequence_length = len(dna_sequence) % 3\n",
    "        # if is not:\n",
    "        if sequence_length != 0:\n",
    "            # as we start reading the sequence from the first nucleotide we don't take into account the last incomplete triplete.\n",
    "            dna_sequence = dna_sequence[:-sequence_length]\n",
    "        #for all the elements of the read dna sequence starting from 0 and counting by each 3 elements.\n",
    "        for i in range(0, len(dna_sequence), 3):\n",
    "            #define each codon.\n",
    "            codon = dna_sequence[i:i+3]\n",
    "            #translate\n",
    "            protein += GENCODE.get(codon, 'X')\n",
    "        return protein\n",
    "    decoded_from_first_position = compute_protein_translation(dna_sequence_)\n",
    "    decoded_from_second_position = compute_protein_translation(dna_sequence_[1:])\n",
    "    decoded_from_third_position = compute_protein_translation(dna_sequence_[2:])\n",
    "    return [decoded_from_first_position, decoded_from_second_position, decoded_from_third_position]"
   ]
  },
  {
   "cell_type": "code",
   "execution_count": 5,
   "metadata": {},
   "outputs": [],
   "source": [
    "#List of files available fir translate in Fasta format in the wd.\n",
    "filenames = ['an_exon.fa', 'cornercase.fa', 'longseqs.fa', 'PF00041_seed.fa', 'shortseqs.fa']"
   ]
  },
  {
   "cell_type": "code",
   "execution_count": 4,
   "metadata": {},
   "outputs": [],
   "source": [
    "# extensions = (\"*.fa\")\n",
    "# filenames = []\n",
    "# for files in extensions:\n",
    "#     filenames.extend(glob.glob(files))                             ## Extend, appends to the list the file names on the directory.\n",
    "#         #filenames = [f for f in filenames] ## Only input filenames. "
   ]
  },
  {
   "cell_type": "code",
   "execution_count": 6,
   "metadata": {
    "scrolled": true
   },
   "outputs": [
    {
     "name": "stdout",
     "output_type": "stream",
     "text": [
      "['an_exon.fa', 'cornercase.fa', 'longseqs.fa', 'PF00041_seed.fa', 'shortseqs.fa']\n",
      "       \n",
      "       \n",
      "Which file: an_exon.fa\n"
     ]
    }
   ],
   "source": [
    "print(filenames)\n",
    "print('       ')\n",
    "print('       ')\n",
    "filename_seq =input(\"Which file: \") #Enter without ''"
   ]
  },
  {
   "cell_type": "code",
   "execution_count": 7,
   "metadata": {},
   "outputs": [],
   "source": [
    "translate_seq = readGenome(filename_seq)"
   ]
  },
  {
   "cell_type": "code",
   "execution_count": 20,
   "metadata": {},
   "outputs": [
    {
     "name": "stdout",
     "output_type": "stream",
     "text": [
      ">where_is_the_exon\n",
      "['INSIPKLFLTVLLSCLPLGWSGRIVETEEMAEGTGGVGTRCWLCCILKATSASLGVACGGQATQLDVASSVLRMEQRQVRSFLWLLQQNQPMTRGFGCHCPPSSQK_GEGSHAFGG_APRTRTVALGALLSVLASPGEGQPLDAWSPH_QHN_FSAADDGSGVYSHCEDWLDQMQEE_HEQFFLPPAKQEAEKGV_WKSSQRDL_SEYFKKQQLEVGSFATCVDWGQLGPSPGAVWHLLRHLGEGGRLYIWAGTALHPGLWLPGPFSNLACSPDPLRESSGSLSLGSFFCLLSPSPGL_GCPISSLFPSIFPGP_VAPLESWQIQGAPPCLGRCRRR_RCYCSLLACLAHMTGSGQAIDSRFTCCGSQVAG_GEDRVTFLFQTGTPFCFYP_LWAAPLSAHGVHEQPQGETWGTGACCLPLKNTSPKVCFLSSSTEFNLRVFDIHHALDKLFPALEQFLSGGRACGQKPQMRAHMIELCTGCY_TVKD', 'SIRFQNCF_LYC_AAFH_VGQEG__RQRKWQKGLGGWGQDAGSVAF_RPHLPAWEWPVVARQPSLMLPLLS_GWNRGR_EAFCGCCSKTNL_PGALAAIALPPARSKEKGAMLLVGKLREQELWPWELYSQS_LLQERVSHWMLGVHTNSTTDSRQLTTGVEYIVTVKIGWTKCKRNDTSNSSCPLQSKKLRKVCSGSHPKGTCEVNILKSNS_KLAVLPLVWIGASWGPALGLSGTS_GTWVKEGGFIFGLVQPCTQASGCLDPSPTWPAPQTLCVKAVVPFPWGPSSVFFLPLQVSKVVQFPPCSLLFFLVHEWHPLKAGRYKGLPHAWGGAGGGNDAIAPCWPAWPT_QGPARP_TPGSPAVGPKWLGRGKTG_HSCSRLALLSVSTLDCGQLPSLPMGFMSSHRERPGEQVPVACL_KILPPKSVFFLLLQSLICESLIYTMPWINYFQLWNNSCLEAEHVGRNLR_GLI_LSCALAVIKL_RI', 'QFDSKTVFNCIAKLPSTRLVRKDSRDRGNGRRDWGGGDKMLALLHFEGHICQPGSGLWWPGNPA_CCLFCPEDGTEAGEKLSVAAAAKPTYDQGLWLPLPSLQPEVRRREPCFWWVSSANKNCGPGSFTLSPSFSRRGSATGCLESTLTAQLILGS_RREWSI_SL_RLAGPNARGMTRAILPAPCKARS_ERCVVEVIPKGLVK_IF_KATARSWQFCHLCGLGPAGAQPWGCLAPPEAPG_RREALYLGWYSPAPRPLVAWTLLQPGLLPRPSA_KQWFPFLGVLLLSSFSLSRSLRLSNFLLVPFYFSWSMSGTP_KLADTRGSPMPGEVQEEVTMLLLLAGLPGPHDRVRPGHRLQVHLLWVPSGWVGGRQGDIPVPDWHSFLFLPLTVGSSPLCPWGS_AATGRDLGNRCLLLAFEKYFPQSLFSFFFYRV_FASL_YTPCPG_TISSSGTIPVWRPSMWAETSDEGSYD_VVHWLLLNCKGS']\n",
      "111\n",
      "GTWVKEGGFIFGLVQPCTQASGCLDPSPTWPAPQTLCVKAVVPFPWGPSSVFFLPLQVSKVVQFPPCSLLFFLVHEWHPLKAGRYKGLPHAWGGAGGGNDAIAPCWPAWPT\n"
     ]
    }
   ],
   "source": [
    "# dictionary with keys: dna_name, values: sequence_name.\n",
    "translate_seq = readGenome(filename_seq)\n",
    "\n",
    "# for key, keyvalue in the dictionary items.\n",
    "for sequence_name, dna_sequence in translate_seq.items():\n",
    "    # print the sequence name.\n",
    "    print(sequence_name)\n",
    "    # decode the dna sequence with the decode_dna function.\n",
    "    decoded_dna_list = decode_dna(dna_sequence)\n",
    "    \n",
    "    longest_protein_sequence = max(\n",
    "        [max(decoded_dna.split('_'), key=len) for decoded_dna in decoded_dna_list],\n",
    "        key=len\n",
    "    )\n",
    "    # print the translated sequence.\n",
    "    print(decoded_dna)\n",
    "    print(len((longest_protein_sequence)))\n",
    "    print(longest_protein_sequence)\n",
    "    \n",
    "#longest 111"
   ]
  },
  {
   "cell_type": "code",
   "execution_count": null,
   "metadata": {},
   "outputs": [],
   "source": []
  }
 ],
 "metadata": {
  "kernelspec": {
   "display_name": "Python 3",
   "language": "python",
   "name": "python3"
  },
  "language_info": {
   "codemirror_mode": {
    "name": "ipython",
    "version": 3
   },
   "file_extension": ".py",
   "mimetype": "text/x-python",
   "name": "python",
   "nbconvert_exporter": "python",
   "pygments_lexer": "ipython3",
   "version": "3.7.0"
  }
 },
 "nbformat": 4,
 "nbformat_minor": 2
}
