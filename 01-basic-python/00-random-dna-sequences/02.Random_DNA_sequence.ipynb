{
 "cells": [
  {
   "cell_type": "code",
   "execution_count": 1,
   "metadata": {},
   "outputs": [],
   "source": [
    "import numpy as np\n",
    "import pandas as pd\n",
    "import random"
   ]
  },
  {
   "cell_type": "code",
   "execution_count": 2,
   "metadata": {},
   "outputs": [],
   "source": [
    "def unif_dna_sequence(lengthDna):\n",
    "    return ''.join(np.random.choice(list(bases))\n",
    "            for _ in range(lengthDna))\n",
    "\n"
   ]
  },
  {
   "cell_type": "code",
   "execution_count": 3,
   "metadata": {},
   "outputs": [],
   "source": [
    "def random_dna_sequence(lengthDna, probability_distribution):\n",
    "     return ''.join(np.random.choice(list(bases), p=probability_distribution)\n",
    "            for _ in range(lengthDna))"
   ]
  },
  {
   "cell_type": "code",
   "execution_count": 4,
   "metadata": {},
   "outputs": [
    {
     "name": "stdout",
     "output_type": "stream",
     "text": [
      "length: 10\n",
      "1. Uniform Distribution\n",
      "2. Set Nucleotides distribution\n",
      "Select distribution: 1\n",
      "GCCCCCGGGG\n"
     ]
    }
   ],
   "source": [
    "if __name__ == \"__main__\":\n",
    "\n",
    "    bases = ['A', 'C', 'T', 'G']\n",
    "\n",
    "    lengthDna = int(input(\"length: \"))\n",
    "\n",
    "    print(\"1. Uniform Distribution\")\n",
    "    print(\"2. Set Nucleotides distribution\")\n",
    "    Choice = int(input(\"Select distribution: \"))\n",
    "\n",
    "    if (Choice == 1):\n",
    "        print(unif_dna_sequence(lengthDna))\n",
    "\n",
    "    else:\n",
    "        A = float(input(\"A: \"))\n",
    "        C = float(input(\"C: \"))\n",
    "        T = float(input(\"T: \"))\n",
    "        G = float(input(\"G: \"))\n",
    "\n",
    "        while (A + C + T + G != 1):\n",
    "            print (\"Sum should be 1\")\n",
    "            A = float(input(\"A: \"))\n",
    "            C = float(input(\"C: \"))\n",
    "            T = float(input(\"T: \"))\n",
    "            G = float(input(\"G: \"))\n",
    "\n",
    "        probability_distribution = [A, C, T, G]\n",
    "        print(random_dna_sequence(lengthDna, probability_distribution))"
   ]
  },
  {
   "cell_type": "code",
   "execution_count": null,
   "metadata": {},
   "outputs": [],
   "source": []
  }
 ],
 "metadata": {
  "kernelspec": {
   "display_name": "Python 3",
   "language": "python",
   "name": "python3"
  },
  "language_info": {
   "codemirror_mode": {
    "name": "ipython",
    "version": 3
   },
   "file_extension": ".py",
   "mimetype": "text/x-python",
   "name": "python",
   "nbconvert_exporter": "python",
   "pygments_lexer": "ipython3",
   "version": "3.7.0"
  }
 },
 "nbformat": 4,
 "nbformat_minor": 2
}
