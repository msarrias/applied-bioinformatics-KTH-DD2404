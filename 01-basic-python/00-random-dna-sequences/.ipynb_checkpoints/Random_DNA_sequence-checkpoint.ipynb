{
 "cells": [
  {
   "cell_type": "code",
   "execution_count": 66,
   "metadata": {},
   "outputs": [],
   "source": [
    "import numpy as np\n",
    "import pandas as pd\n",
    "import random"
   ]
  },
  {
   "cell_type": "code",
   "execution_count": 67,
   "metadata": {
    "scrolled": true
   },
   "outputs": [
    {
     "name": "stdout",
     "output_type": "stream",
     "text": [
      "length: 30\n"
     ]
    }
   ],
   "source": [
    "lengthDna = int(input(\"length: \"))"
   ]
  },
  {
   "cell_type": "code",
   "execution_count": 68,
   "metadata": {},
   "outputs": [
    {
     "name": "stdout",
     "output_type": "stream",
     "text": [
      "30\n"
     ]
    }
   ],
   "source": [
    "print(lengthDna)"
   ]
  },
  {
   "cell_type": "code",
   "execution_count": 69,
   "metadata": {},
   "outputs": [
    {
     "name": "stdout",
     "output_type": "stream",
     "text": [
      "1. Uniform Distribution\n",
      "2. Set distribution parameters\n",
      "Select distribution: 1\n"
     ]
    }
   ],
   "source": [
    "print(\"1. Uniform Distribution\")\n",
    "print(\"2. Set distribution parameters\")\n",
    "Choice = int(input(\"Select distribution: \"))"
   ]
  },
  {
   "cell_type": "code",
   "execution_count": 70,
   "metadata": {},
   "outputs": [
    {
     "name": "stdout",
     "output_type": "stream",
     "text": [
      "1\n"
     ]
    }
   ],
   "source": [
    "print(Choice)"
   ]
  },
  {
   "cell_type": "code",
   "execution_count": 71,
   "metadata": {},
   "outputs": [],
   "source": [
    "if (Choice == 1):\n",
    "    pass\n",
    "\n",
    "else: \n",
    "    A = float(input(\"A: \"))\n",
    "    C = float(input(\"C: \"))\n",
    "    T = float(input(\"T: \"))\n",
    "    G = float(input(\"G: \"))\n"
   ]
  },
  {
   "cell_type": "code",
   "execution_count": 72,
   "metadata": {},
   "outputs": [],
   "source": [
    "if (Choice == 2) and (A+C+T+G != 1):\n",
    "        print (\"Sum should be 1\")\n",
    "else:\n",
    "        pass\n"
   ]
  },
  {
   "cell_type": "code",
   "execution_count": 73,
   "metadata": {},
   "outputs": [
    {
     "name": "stdout",
     "output_type": "stream",
     "text": [
      "0.3 0.4 0.1 0.2\n"
     ]
    }
   ],
   "source": [
    "print(A, C, T, G)"
   ]
  },
  {
   "cell_type": "code",
   "execution_count": 74,
   "metadata": {},
   "outputs": [
    {
     "name": "stdout",
     "output_type": "stream",
     "text": [
      "GATTTTGTGCCAGGAACCTATCGATACTTC\n"
     ]
    }
   ],
   "source": [
    "\n",
    "bases = ('A', 'C', 'T', 'G')\n",
    "pr = (A, C, T, G)\n",
    "\n",
    "if (Choice == 1):\n",
    "    def unif_dna_sequence(lengthDna):\n",
    "        return ''.join(np.random.choice(list(bases))\n",
    "                for _ in range(lengthDna))\n",
    "    myunifrandomsequence = unif_dna_sequence(lengthDna)\n",
    "    print(myunifrandomsequence)\n",
    "\n",
    "else:     \n",
    "    def random_dna_sequence(lengthDna):\n",
    "         return ''.join(np.random.choice(list(bases), p=pr)\n",
    "                for _ in range(lengthDna))\n",
    "    myrandomsequence = random_dna_sequence(lengthDna)\n",
    "    print(myrandomsequence)\n"
   ]
  },
  {
   "cell_type": "code",
   "execution_count": 75,
   "metadata": {},
   "outputs": [
    {
     "data": {
      "text/plain": [
       "'GCCTCCACGAAACACCAGGCAGAAAAGCAA'"
      ]
     },
     "execution_count": 75,
     "metadata": {},
     "output_type": "execute_result"
    }
   ],
   "source": [
    "random_dna_sequence(30)"
   ]
  },
  {
   "cell_type": "code",
   "execution_count": null,
   "metadata": {},
   "outputs": [],
   "source": []
  }
 ],
 "metadata": {
  "kernelspec": {
   "display_name": "Python 3",
   "language": "python",
   "name": "python3"
  },
  "language_info": {
   "codemirror_mode": {
    "name": "ipython",
    "version": 3
   },
   "file_extension": ".py",
   "mimetype": "text/x-python",
   "name": "python",
   "nbconvert_exporter": "python",
   "pygments_lexer": "ipython3",
   "version": "3.7.0"
  }
 },
 "nbformat": 4,
 "nbformat_minor": 2
}
