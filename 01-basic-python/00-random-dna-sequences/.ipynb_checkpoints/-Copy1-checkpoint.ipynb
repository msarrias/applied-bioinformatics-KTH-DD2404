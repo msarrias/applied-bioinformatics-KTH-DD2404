{
 "cells": [
  {
   "cell_type": "code",
   "execution_count": 36,
   "metadata": {},
   "outputs": [],
   "source": [
    "import numpy as np\n",
    "import pandas as pd\n",
    "import random"
   ]
  },
  {
   "cell_type": "code",
   "execution_count": 37,
   "metadata": {
    "scrolled": true
   },
   "outputs": [
    {
     "name": "stdout",
     "output_type": "stream",
     "text": [
      "length: 10\n"
     ]
    }
   ],
   "source": [
    "lengthDna = int(input(\"length: \"))"
   ]
  },
  {
   "cell_type": "code",
   "execution_count": 38,
   "metadata": {},
   "outputs": [
    {
     "name": "stdout",
     "output_type": "stream",
     "text": [
      "10\n"
     ]
    }
   ],
   "source": [
    "print(lengthDna)"
   ]
  },
  {
   "cell_type": "code",
   "execution_count": null,
   "metadata": {},
   "outputs": [],
   "source": [
    "\n",
    "if distribution = uniform\n",
    "\n",
    "bases = ('A', 'C', 'T', 'G')\n",
    "def random_dna_sequence(lengthDna):\n",
    "    return ''.join(np.random.choice(list(bases))\n",
    "               for _ in range(lengthDna))\n",
    "myrandomsequence = random_dna_sequence(lengthDna)\n",
    "print(myrandomsequence)\n",
    "\n",
    "else \n"
   ]
  },
  {
   "cell_type": "code",
   "execution_count": 44,
   "metadata": {
    "scrolled": true
   },
   "outputs": [
    {
     "name": "stdout",
     "output_type": "stream",
     "text": [
      "GTGCATCAAA\n"
     ]
    }
   ],
   "source": [
    "\n",
    "bases = ('A', 'C', 'T', 'G')\n",
    "pr = (0.40, 0.40, 0.10, 0.10)\n",
    "\n",
    "def random_dna_sequence(lengthDna):\n",
    "    return ''.join(np.random.choice(list(bases))\n",
    "               for _ in range(lengthDna))\n",
    "myrandomsequence = random_dna_sequence(lengthDna)\n",
    "print(myrandomsequence)\n"
   ]
  },
  {
   "cell_type": "code",
   "execution_count": 42,
   "metadata": {},
   "outputs": [
    {
     "name": "stdout",
     "output_type": "stream",
     "text": [
      "CAAAAAAAAC\n"
     ]
    }
   ],
   "source": [
    "\n",
    "bases = ('A', 'C', 'T', 'G')\n",
    "pr = (0.8, 0.050, 0.05, 0.10)\n",
    "\n",
    "def random_dna_sequence(lengthDna):\n",
    "    return ''.join(np.random.choice(list(bases), p=pr)\n",
    "               for _ in range(lexgthDna))\n",
    "myrandomsequence = random_dna_sequence(lengthDna)\n",
    "print(myrandomsequence)\n"
   ]
  },
  {
   "cell_type": "code",
   "execution_count": 43,
   "metadata": {},
   "outputs": [
    {
     "data": {
      "text/plain": [
       "'CGAAAAAAACAAAAAAAAAAAAAAAAAAAA'"
      ]
     },
     "execution_count": 43,
     "metadata": {},
     "output_type": "execute_result"
    }
   ],
   "source": [
    "random_dna_sequence(30)"
   ]
  },
  {
   "cell_type": "code",
   "execution_count": null,
   "metadata": {},
   "outputs": [],
   "source": []
  }
 ],
 "metadata": {
  "kernelspec": {
   "display_name": "Python 3",
   "language": "python",
   "name": "python3"
  },
  "language_info": {
   "codemirror_mode": {
    "name": "ipython",
    "version": 3
   },
   "file_extension": ".py",
   "mimetype": "text/x-python",
   "name": "python",
   "nbconvert_exporter": "python",
   "pygments_lexer": "ipython3",
   "version": "3.7.0"
  }
 },
 "nbformat": 4,
 "nbformat_minor": 2
}
