{
 "cells": [
  {
   "cell_type": "code",
   "execution_count": 7,
   "metadata": {},
   "outputs": [],
   "source": [
    "import glob"
   ]
  },
  {
   "cell_type": "code",
   "execution_count": 8,
   "metadata": {},
   "outputs": [],
   "source": [
    "def reading_sequences (filename):\n",
    "    \"\"\"\n",
    "    reading_sequences reads the lines of the file and returns it as a list of strings \n",
    "    without lines starting with markup # and //, also removing the line breaks /n.\n",
    "    :param filename: name of the file on the wd.\n",
    "    \"\"\"\n",
    "    with open(filename, \"r\") as file:\n",
    "        return list(map(str.strip, [row for row in file.readlines() \n",
    "                                    if not row.startswith('#') and not row.startswith('//')]))"
   ]
  },
  {
   "cell_type": "code",
   "execution_count": 9,
   "metadata": {},
   "outputs": [],
   "source": [
    "def flatten(list_of_sublists):\n",
    "    \"\"\"\n",
    "    flatten: flattens a list of lists into a list.\n",
    "    :param list_of_lists: list with sublists.\n",
    "    \"\"\"\n",
    "    return [item\n",
    "        for sublist in list_of_sublists for item in sublist]\n"
   ]
  },
  {
   "cell_type": "code",
   "execution_count": 10,
   "metadata": {},
   "outputs": [],
   "source": [
    "extensions = (\"*.txt\", \"*.sthlm\")\n",
    "filenames = []\n",
    "for files in extensions:\n",
    "        filenames.extend(glob.glob(files))                            ## Extend, appends to the list the file names on the directory.\n",
    "        filenames = [f for f in filenames if not f.startswith('out')] ## Only input filenames. "
   ]
  },
  {
   "cell_type": "code",
   "execution_count": 11,
   "metadata": {},
   "outputs": [],
   "source": [
    "files = {}\n",
    "\n",
    "if __name__ == \"__main__\":\n",
    "    \n",
    "    for filename in filenames:\n",
    "        # apply function reading_sequences to each file in filenames\n",
    "        files[filename] = (reading_sequences(filename))\n",
    "        # removes all charachters after the first word of each string.\n",
    "        files[filename] = [line.split(\" \")[0] for line in files[filename]]\n",
    "        # instert a new element of the list indicating the number of sequences on the file.\n",
    "        (files[filename]).insert(0, str(len(files[filename])))\n",
    "        \n",
    "\n",
    "    for filename in filenames: \n",
    "        # Add the line breaks for printing and convert into a list.\n",
    "        files[filename] = list(map(( lambda x: x + '\\n'), files[filename]))\n",
    "        #new variable with the output file name\n",
    "        out_filename = 'out_' + filename\n",
    "        #write the output file\n",
    "        with open(out_filename, \"w\") as output_file:\n",
    "            output_file.writelines(files[filename]) \n"
   ]
  }
 ],
 "metadata": {
  "kernelspec": {
   "display_name": "Python 3",
   "language": "python",
   "name": "python3"
  },
  "language_info": {
   "codemirror_mode": {
    "name": "ipython",
    "version": 3
   },
   "file_extension": ".py",
   "mimetype": "text/x-python",
   "name": "python",
   "nbconvert_exporter": "python",
   "pygments_lexer": "ipython3",
   "version": "3.7.0"
  }
 },
 "nbformat": 4,
 "nbformat_minor": 2
}
