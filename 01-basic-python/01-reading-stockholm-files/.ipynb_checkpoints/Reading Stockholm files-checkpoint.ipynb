{
 "cells": [
  {
   "cell_type": "markdown",
   "metadata": {},
   "source": [
    "## Stockholm Files"
   ]
  },
  {
   "cell_type": "markdown",
   "metadata": {},
   "source": [
    "Stockholm format is a multiple sequence alignment format used by Pfam and Rfam to disseminate protein and RNA sequence alignments. \n",
    "\n",
    "Accession number:           Accession number in form PFxxxxx (Pfam) or RFxxxxx (Rfam).\n",
    "\n",
    "An accession number in bioinformatics is a unique identifier given to a DNA or protein sequence record to allow for tracking of different versions of that sequence record and the associated sequence over time in a single data repository. Because of its relative stability, accession numbers can be utilized as foreign keys for referring to a sequence object, but not necessarily to a unique sequence. All sequence information repositories implement the concept of \"accession number\" but might do so with subtle variations.\n",
    "\n",
    "\n",
    "Pfam is a database of protein families that includes their annotations and multiple sequence alignments generated using hidden Markov models\n",
    "\n",
    "Rfam is a database containing information about non-coding RNA (ncRNA) families and other structured RNA elements. It is an annotated, open access database originally developed at the Wellcome Trust Sanger Institute in collaboration with Janelia Farm and currently hosted at the European Bioinformatics Institute.Rfam is designed to be similar to the Pfam database for annotating protein families."
   ]
  },
  {
   "cell_type": "code",
   "execution_count": 7,
   "metadata": {},
   "outputs": [],
   "source": [
    "import glob"
   ]
  },
  {
   "cell_type": "code",
   "execution_count": 8,
   "metadata": {},
   "outputs": [],
   "source": [
    "def reading_sequences (filename):\n",
    "    \"\"\"\n",
    "    reading_sequences reads the lines of the file and returns it as a list of strings \n",
    "    without lines starting with markup # and //, also removing the line breaks /n.\n",
    "    :param filename: name of the file on the wd.\n",
    "    \"\"\"\n",
    "    with open(filename, \"r\") as file:\n",
    "        return list(map(str.strip, [row for row in file.readlines() \n",
    "                                    if not row.startswith('#') and not row.startswith('//')]))"
   ]
  },
  {
   "cell_type": "code",
   "execution_count": 9,
   "metadata": {},
   "outputs": [],
   "source": [
    "def flatten(list_of_sublists):\n",
    "    \"\"\"\n",
    "    flatten: flattens a list of lists into a list.\n",
    "    :param list_of_lists: list with sublists.\n",
    "    \"\"\"\n",
    "    return [item\n",
    "        for sublist in list_of_sublists for item in sublist]\n"
   ]
  },
  {
   "cell_type": "code",
   "execution_count": 10,
   "metadata": {},
   "outputs": [],
   "source": [
    "extensions = (\"*.txt\", \"*.sthlm\")\n",
    "filenames = []\n",
    "for files in extensions:\n",
    "        filenames.extend(glob.glob(files))                            ## Extend, appends to the list the file names on the directory.\n",
    "        filenames = [f for f in filenames if not f.startswith('out')] ## Only input filenames. "
   ]
  },
  {
   "cell_type": "code",
   "execution_count": 11,
   "metadata": {},
   "outputs": [],
   "source": [
    "# # List of sequences files.\n",
    "#filenames = ['txt1.sthlm', 'txt2.sthlm']\n",
    "# filenames = ['txt1.sthlm','txt2.sthlm']\n",
    "# #Dictionary containing as lists all the files.\n",
    "files = {}\n",
    "\n",
    "if __name__ == \"__main__\":\n",
    "    for filename in filenames:\n",
    "        # apply function reading_sequences to each file in filenames\n",
    "        files[filename] = (reading_sequences(filename))\n",
    "        # removes all charachters after the first word of each string.\n",
    "        files[filename] = [line.split(\" \")[0] for line in files[filename]]\n",
    "        # instert a new element of the list indicating the number of sequences on the file.\n",
    "        (files[filename]).insert(0, str(len(files[filename])))\n",
    "        \n",
    "\n",
    "    for filename in filenames: \n",
    "        # Add the line breaks for printing and convert into a list.\n",
    "        files[filename] = list(map(( lambda x: x + '\\n'), files[filename]))\n",
    "        #new variable with the output file name\n",
    "        out_filename = 'out_' + filename\n",
    "        #write the output file\n",
    "        with open(out_filename, \"w\") as output_file:\n",
    "            output_file.writelines(files[filename]) \n"
   ]
  },
  {
   "cell_type": "code",
   "execution_count": 10,
   "metadata": {},
   "outputs": [
    {
     "name": "stdout",
     "output_type": "stream",
     "text": [
      "['txt1.sthlm', 'txt2.sthlm']\n",
      "       \n",
      "       \n",
      "Which sequence file: 'txt1.sthlm'\n"
     ]
    }
   ],
   "source": [
    "print(filenames)\n",
    "print('       ')\n",
    "print('       ')\n",
    "Choice = str(input(\"Which sequence file: \"))"
   ]
  },
  {
   "cell_type": "code",
   "execution_count": 12,
   "metadata": {},
   "outputs": [
    {
     "ename": "SyntaxError",
     "evalue": "invalid syntax (<ipython-input-12-b715f9521093>, line 3)",
     "output_type": "error",
     "traceback": [
      "\u001b[0;36m  File \u001b[0;32m\"<ipython-input-12-b715f9521093>\"\u001b[0;36m, line \u001b[0;32m3\u001b[0m\n\u001b[0;31m    print t.read()\u001b[0m\n\u001b[0m          ^\u001b[0m\n\u001b[0;31mSyntaxError\u001b[0m\u001b[0;31m:\u001b[0m invalid syntax\n"
     ]
    }
   ],
   "source": [
    "if Choice == 'txt1.sthlm':\n",
    "    with open('out_txt1.sthlm', 'r') as t:\n",
    "           print t.read()\n",
    "    t.close()\n",
    "                \n",
    "if Choice == 'txt2.sthlm':\n",
    "    with open('out_txt2.sthlm', 'r') as ls:\n",
    "           print ls.read()\n",
    "    ls.close()\n",
    "                "
   ]
  },
  {
   "cell_type": "code",
   "execution_count": null,
   "metadata": {},
   "outputs": [],
   "source": []
  }
 ],
 "metadata": {
  "kernelspec": {
   "display_name": "Python 3",
   "language": "python",
   "name": "python3"
  },
  "language_info": {
   "codemirror_mode": {
    "name": "ipython",
    "version": 3
   },
   "file_extension": ".py",
   "mimetype": "text/x-python",
   "name": "python",
   "nbconvert_exporter": "python",
   "pygments_lexer": "ipython3",
   "version": "3.7.0"
  }
 },
 "nbformat": 4,
 "nbformat_minor": 2
}
