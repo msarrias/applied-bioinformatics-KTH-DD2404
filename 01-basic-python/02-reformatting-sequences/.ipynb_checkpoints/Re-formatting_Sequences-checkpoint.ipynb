{
 "cells": [
  {
   "cell_type": "code",
   "execution_count": null,
   "metadata": {},
   "outputs": [],
   "source": [
    "#! /usr.bin/env python\n",
    "# This program read sequences from Stockholm files and reformat the sequences into Fasta-format."
   ]
  },
  {
   "cell_type": "code",
   "execution_count": 1,
   "metadata": {},
   "outputs": [],
   "source": [
    "import glob\n",
    "import wget\n",
    "import os"
   ]
  },
  {
   "cell_type": "code",
   "execution_count": 108,
   "metadata": {},
   "outputs": [],
   "source": [
    "url = 'http://pfam.xfam.org/family/PF00041/alignment/seed/format?format=stockholm&alnType=seed&order=t&case=l&gaps=default&download=0'\n",
    "filez = wget.download(url)"
   ]
  },
  {
   "cell_type": "code",
   "execution_count": 2,
   "metadata": {},
   "outputs": [],
   "source": [
    "def reading_sequences (filename):\n",
    "    \"\"\"\n",
    "    reading_sequences reads the lines of the file and returns it as a list of strings \n",
    "    without lines starting with markup # and //, also removing the line breaks /n.\n",
    "    :param filename: name of the file on the wd.\n",
    "    \"\"\"\n",
    "    with open(filename, \"r\") as file:\n",
    "        return list(map(str.strip, [row for row in file.readlines() \n",
    "                                    if not row.startswith('#') and not row.startswith('//')]))"
   ]
  },
  {
   "cell_type": "code",
   "execution_count": 3,
   "metadata": {},
   "outputs": [],
   "source": [
    "def slicer(list_of_strings, slice_length):\n",
    "    \"\"\"\n",
    "    slicer breaks down rows.\n",
    "    :param list_of_strings: list.\n",
    "    :param slice_length: maximum characters wide per line.\n",
    "    \"\"\"\n",
    "    return [list_of_strings[i:i + slice_length] for i in range(0, len(list_of_strings), slice_length)]"
   ]
  },
  {
   "cell_type": "code",
   "execution_count": 4,
   "metadata": {},
   "outputs": [],
   "source": [
    "def flatten(list_of_sublists):\n",
    "    \"\"\"\n",
    "    flatten: flattens a list of lists into a list.\n",
    "    :param list_of_lists: list with sublists.\n",
    "    \"\"\"\n",
    "    return [item\n",
    "        for sublist in list_of_sublists for item in sublist]\n"
   ]
  },
  {
   "cell_type": "code",
   "execution_count": 5,
   "metadata": {},
   "outputs": [],
   "source": [
    "def re_formatting (file_python_object , filename):\n",
    "    \"\"\"\n",
    "    re_formatting: Reformats the sequences from Stockholm files into Fasta format, depending on the extension .\n",
    "    :param file_python_object: object, result after applying the reading_sequences function.\n",
    "    :param filename:name of the file on the wd.\n",
    "    \"\"\"\n",
    "    \n",
    "    #if the extension of the file is .sthlm, return the reformated file.\n",
    "    if '.sthlm' in filename:\n",
    "        # Adds the definition line, followed by an unique identifier.\n",
    "        pre_pfam_indicator_sth = list(map(( lambda x: '>' + x), file_python_object)) \n",
    "        # Removes the tab indicator.\n",
    "        pre_pfam_tab_split_sth = flatten(list(map(lambda x: x.split('\\t') , pre_pfam_indicator_sth ))) \n",
    "        # Splits each element of the list after the first word of each element, creating more elements.\n",
    "        pre_pfam_split_seq_sth = flatten(list(map(lambda x: x.split(' ', 1) , pre_pfam_tab_split_sth)))\n",
    "        # Filter for non-empty spaces.\n",
    "        pre_pfam_filter_space_sth = list(filter(None, pre_pfam_split_seq_sth))\n",
    "        # Apply the slice function to break the lines longer than 60 characters.\n",
    "        pre_pfam_flattened_slice_sth = [flattened_row for row_string in pre_pfam_filter_space_sth \n",
    "                                        for flattened_row in slicer(row_string, 60)]\n",
    "        \n",
    "        # Add the line breaks for printing and convert into a list.\n",
    "        pfam_re_formatted_sth_file = list(map(( lambda x: x + '\\n'), pre_pfam_flattened_slice_sth))\n",
    "        \n",
    "        return pfam_re_formatted_sth_file\n",
    "    \n",
    "    #if the extension of the file is .txt, return the reformated file.\n",
    "    if '.txt' in filename:\n",
    "        # join first to elements of the list.\n",
    "        pre_pfam_joint_txt = [\" \".join(file_python_object[:2])]+file_python_object[2:]\n",
    "        # Add indicator and convert into a list.\n",
    "        pre_pfam_indicator_txt = list(map(( lambda x: '>' + x), pre_pfam_joint_txt)  )\n",
    "        # Splits each element of the list after the first word of each element, creating more elements.\n",
    "        pre_pfam_split_seq_txt = flatten(list(map(lambda x: x.split(' ', 1) , pre_pfam_indicator_txt)))\n",
    "        # Removes blank spaces from each element of the list.\n",
    "        pre_pfam_strip_seq_txt = list(map(lambda x: x.strip(), pre_pfam_split_seq_txt))\n",
    "        # Filter for non-empty spaces.\n",
    "        pre_pfam_filter_space_txt = list(filter(None, pre_pfam_strip_seq_txt))\n",
    "        # Apply the slice function to break the lines longer than 60 characters.\n",
    "        pre_pfam_flattened_slice_txt = [flattened_row for row_string in pre_pfam_filter_space_txt \n",
    "                                        for flattened_row in slicer(row_string, 60)]\n",
    "        \n",
    "        # Add the line breaks for printing and convert into a list.\n",
    "        pfam_re_formatted_txt_file = list(map(( lambda x: x + '\\n'), pre_pfam_flattened_slice_txt))\n",
    "        return pfam_re_formatted_txt_file\n",
    "    "
   ]
  },
  {
   "cell_type": "code",
   "execution_count": 11,
   "metadata": {
    "scrolled": true
   },
   "outputs": [
    {
     "data": {
      "text/plain": [
       "['PF00041_seed.txt', 'cornercase.sthlm', 'longseqs.sthlm', 'shortseqs.sthlm']"
      ]
     },
     "execution_count": 11,
     "metadata": {},
     "output_type": "execute_result"
    }
   ],
   "source": [
    "filenames"
   ]
  },
  {
   "cell_type": "code",
   "execution_count": 12,
   "metadata": {},
   "outputs": [
    {
     "data": {
      "text/plain": [
       "['PF00041_seed', 'cornercase', 'longseqs', 'shortseqs']"
      ]
     },
     "execution_count": 12,
     "metadata": {},
     "output_type": "execute_result"
    }
   ],
   "source": [
    "filenames_out"
   ]
  },
  {
   "cell_type": "code",
   "execution_count": 6,
   "metadata": {},
   "outputs": [],
   "source": [
    "extensions = (\"*.txt\", \"*.sthlm\")\n",
    "filenames = []\n",
    "for files in extensions:\n",
    "        filenames.extend(glob.glob(files))                             ## Extend, appends to the list the file names on the directory.\n",
    "        filenames = [f for f in filenames if not f.startswith('Fasta') \n",
    "                     if not f.endswith('.fa')] ## Only input filenames.\n",
    "        \n",
    "for filename in filenames:\n",
    "    filenames_out = ([line.split(\".\")[0] for line in filenames])"
   ]
  },
  {
   "cell_type": "code",
   "execution_count": 8,
   "metadata": {},
   "outputs": [],
   "source": [
    "#Dictionary containing as lists all the files.\n",
    "files = {}\n",
    "#Dictionary containing as lists all the files.\n",
    "Fasta = {}\n",
    "\n",
    "if __name__ == \"__main__\":\n",
    "    for filename in filenames:\n",
    "        files[filename] = reading_sequences(filename)\n",
    "        Fasta[filename] = re_formatting(files[filename],filename)\n",
    "        \n",
    "        filename_out = filename.split(\".\")[0]\n",
    "        \n",
    "        # for filenameout in filenames_out:\n",
    "        Fasta_filename = filename_out + '.fa'\n",
    "        with open(Fasta_filename, \"w\") as new_fasta_file:\n",
    "            new_fasta_file.writelines(Fasta[filename]) \n"
   ]
  },
  {
   "cell_type": "code",
   "execution_count": null,
   "metadata": {},
   "outputs": [
    {
     "name": "stdout",
     "output_type": "stream",
     "text": [
      "['PF00041_seed.txt', 'cornercase.sthlm', 'longseqs.sthlm', 'shortseqs.sthlm']\n",
      "       \n",
      "       \n"
     ]
    }
   ],
   "source": [
    "print(filenames)\n",
    "print('       ')\n",
    "print('       ')\n",
    "Choice = str(input(\"Which sequence file: \"))"
   ]
  },
  {
   "cell_type": "code",
   "execution_count": 31,
   "metadata": {
    "collapsed": true
   },
   "outputs": [
    {
     "ename": "SyntaxError",
     "evalue": "invalid syntax (<ipython-input-31-95b7b44fb751>, line 3)",
     "output_type": "error",
     "traceback": [
      "\u001b[0;36m  File \u001b[0;32m\"<ipython-input-31-95b7b44fb751>\"\u001b[0;36m, line \u001b[0;32m3\u001b[0m\n\u001b[0;31m    print f.read()\u001b[0m\n\u001b[0m          ^\u001b[0m\n\u001b[0;31mSyntaxError\u001b[0m\u001b[0;31m:\u001b[0m invalid syntax\n"
     ]
    }
   ],
   "source": [
    "if Choice == 'shortseqs.sthlm':\n",
    "    with open('shortseqs.fa', 'r') as f:\n",
    "           print f.read()\n",
    "    f.close()\n",
    "                \n",
    "if Choice == 'longseqs.sthlm':\n",
    "    with open('longseqs.fa', 'r') as ls:\n",
    "           print ls.read()\n",
    "    ls.close()\n",
    "                \n",
    "\n",
    "if Choice == 'cornercase.sthlm':\n",
    "    with open('cornercase.fa', 'r') as cc:\n",
    "           print cc.read()\n",
    "    cc.close()\n",
    "                \n",
    "if Choice == 'PF00041_seed.txt':\n",
    "    with open('PF00041_seed.fa', 'r') as pf:\n",
    "           print pf.read()\n",
    "    pf.close()\n",
    "else:\n",
    "    pass\n",
    "    "
   ]
  },
  {
   "cell_type": "code",
   "execution_count": null,
   "metadata": {},
   "outputs": [],
   "source": []
  }
 ],
 "metadata": {
  "kernelspec": {
   "display_name": "Python 3",
   "language": "python",
   "name": "python3"
  },
  "language_info": {
   "codemirror_mode": {
    "name": "ipython",
    "version": 3
   },
   "file_extension": ".py",
   "mimetype": "text/x-python",
   "name": "python",
   "nbconvert_exporter": "python",
   "pygments_lexer": "ipython3",
   "version": "3.7.0"
  }
 },
 "nbformat": 4,
 "nbformat_minor": 2
}
